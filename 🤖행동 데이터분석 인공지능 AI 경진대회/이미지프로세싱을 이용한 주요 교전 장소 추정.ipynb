{
 "cells": [
  {
   "cell_type": "code",
   "execution_count": 7,
   "id": "8b99ec1c-5c04-4e23-a28b-47827fc8757f",
   "metadata": {
    "jupyter": {
     "source_hidden": true
    },
    "tags": []
   },
   "outputs": [],
   "source": [
    "import pandas as pd\n",
    "import numpy as np\n",
    "import matplotlib.pyplot as plt\n",
    "import cv2"
   ]
  },
  {
   "cell_type": "code",
   "execution_count": 8,
   "id": "df4ea235-bf1e-4a61-9b5a-e9be0952ab87",
   "metadata": {},
   "outputs": [],
   "source": [
    "train = pd.read_csv('/Users/choejeehyuk/경4났조/235583_행동 데이터 분석 인공지능 AI 경진대회_data/train.csv')\n",
    "train = train[train.event == 'Camera']"
   ]
  },
  {
   "cell_type": "code",
   "execution_count": 9,
   "id": "7e136264-ba9b-4135-ad35-a4bff80ac7f9",
   "metadata": {},
   "outputs": [
    {
     "data": {
      "text/html": [
       "<div>\n",
       "<style scoped>\n",
       "    .dataframe tbody tr th:only-of-type {\n",
       "        vertical-align: middle;\n",
       "    }\n",
       "\n",
       "    .dataframe tbody tr th {\n",
       "        vertical-align: top;\n",
       "    }\n",
       "\n",
       "    .dataframe thead th {\n",
       "        text-align: right;\n",
       "    }\n",
       "</style>\n",
       "<table border=\"1\" class=\"dataframe\">\n",
       "  <thead>\n",
       "    <tr style=\"text-align: right;\">\n",
       "      <th></th>\n",
       "      <th>game_id</th>\n",
       "      <th>winner</th>\n",
       "      <th>time</th>\n",
       "      <th>player</th>\n",
       "      <th>species</th>\n",
       "      <th>event</th>\n",
       "      <th>event_contents</th>\n",
       "    </tr>\n",
       "  </thead>\n",
       "  <tbody>\n",
       "    <tr>\n",
       "      <th>0</th>\n",
       "      <td>0</td>\n",
       "      <td>1</td>\n",
       "      <td>0.00</td>\n",
       "      <td>0</td>\n",
       "      <td>T</td>\n",
       "      <td>Camera</td>\n",
       "      <td>at (145.25, 21.5078125)</td>\n",
       "    </tr>\n",
       "    <tr>\n",
       "      <th>1</th>\n",
       "      <td>0</td>\n",
       "      <td>1</td>\n",
       "      <td>0.00</td>\n",
       "      <td>1</td>\n",
       "      <td>T</td>\n",
       "      <td>Camera</td>\n",
       "      <td>at (22.75, 147.0078125)</td>\n",
       "    </tr>\n",
       "    <tr>\n",
       "      <th>4</th>\n",
       "      <td>0</td>\n",
       "      <td>1</td>\n",
       "      <td>0.14</td>\n",
       "      <td>0</td>\n",
       "      <td>T</td>\n",
       "      <td>Camera</td>\n",
       "      <td>at (142.99609375, 24.50390625)</td>\n",
       "    </tr>\n",
       "    <tr>\n",
       "      <th>5</th>\n",
       "      <td>0</td>\n",
       "      <td>1</td>\n",
       "      <td>0.14</td>\n",
       "      <td>0</td>\n",
       "      <td>T</td>\n",
       "      <td>Camera</td>\n",
       "      <td>at (142.5078125, 24.98828125)</td>\n",
       "    </tr>\n",
       "    <tr>\n",
       "      <th>6</th>\n",
       "      <td>0</td>\n",
       "      <td>1</td>\n",
       "      <td>0.14</td>\n",
       "      <td>0</td>\n",
       "      <td>T</td>\n",
       "      <td>Camera</td>\n",
       "      <td>at (139.6171875, 27.8828125)</td>\n",
       "    </tr>\n",
       "  </tbody>\n",
       "</table>\n",
       "</div>"
      ],
      "text/plain": [
       "   game_id  winner  time  player species   event  \\\n",
       "0        0       1  0.00       0       T  Camera   \n",
       "1        0       1  0.00       1       T  Camera   \n",
       "4        0       1  0.14       0       T  Camera   \n",
       "5        0       1  0.14       0       T  Camera   \n",
       "6        0       1  0.14       0       T  Camera   \n",
       "\n",
       "                   event_contents  \n",
       "0         at (145.25, 21.5078125)  \n",
       "1         at (22.75, 147.0078125)  \n",
       "4  at (142.99609375, 24.50390625)  \n",
       "5   at (142.5078125, 24.98828125)  \n",
       "6    at (139.6171875, 27.8828125)  "
      ]
     },
     "execution_count": 9,
     "metadata": {},
     "output_type": "execute_result"
    }
   ],
   "source": [
    "train.head()"
   ]
  },
  {
   "cell_type": "code",
   "execution_count": 10,
   "id": "c3a89b89-aeb8-4371-84d5-19e6e6f4d416",
   "metadata": {},
   "outputs": [],
   "source": [
    "train.event_contents = train.event_contents.str.split('(').str[1]\n",
    "train.event_contents = train.event_contents.str.split(')').str[0]\n",
    "train['Camera_loc_x'] = train.event_contents.str.split(',').str[0].astype('float')\n",
    "train['Camera_loc_y'] = train.event_contents.str.split(',').str[1].astype('float')"
   ]
  },
  {
   "cell_type": "code",
   "execution_count": 11,
   "id": "9a317b70-5b19-4b27-95b0-c251e7bc7a79",
   "metadata": {},
   "outputs": [
    {
     "data": {
      "text/html": [
       "<div>\n",
       "<style scoped>\n",
       "    .dataframe tbody tr th:only-of-type {\n",
       "        vertical-align: middle;\n",
       "    }\n",
       "\n",
       "    .dataframe tbody tr th {\n",
       "        vertical-align: top;\n",
       "    }\n",
       "\n",
       "    .dataframe thead th {\n",
       "        text-align: right;\n",
       "    }\n",
       "</style>\n",
       "<table border=\"1\" class=\"dataframe\">\n",
       "  <thead>\n",
       "    <tr style=\"text-align: right;\">\n",
       "      <th></th>\n",
       "      <th>game_id</th>\n",
       "      <th>winner</th>\n",
       "      <th>time</th>\n",
       "      <th>player</th>\n",
       "      <th>species</th>\n",
       "      <th>event</th>\n",
       "      <th>event_contents</th>\n",
       "      <th>Camera_loc_x</th>\n",
       "      <th>Camera_loc_y</th>\n",
       "    </tr>\n",
       "  </thead>\n",
       "  <tbody>\n",
       "    <tr>\n",
       "      <th>0</th>\n",
       "      <td>0</td>\n",
       "      <td>1</td>\n",
       "      <td>0.00</td>\n",
       "      <td>0</td>\n",
       "      <td>T</td>\n",
       "      <td>Camera</td>\n",
       "      <td>145.25, 21.5078125</td>\n",
       "      <td>145.250000</td>\n",
       "      <td>21.507812</td>\n",
       "    </tr>\n",
       "    <tr>\n",
       "      <th>1</th>\n",
       "      <td>0</td>\n",
       "      <td>1</td>\n",
       "      <td>0.00</td>\n",
       "      <td>1</td>\n",
       "      <td>T</td>\n",
       "      <td>Camera</td>\n",
       "      <td>22.75, 147.0078125</td>\n",
       "      <td>22.750000</td>\n",
       "      <td>147.007812</td>\n",
       "    </tr>\n",
       "    <tr>\n",
       "      <th>4</th>\n",
       "      <td>0</td>\n",
       "      <td>1</td>\n",
       "      <td>0.14</td>\n",
       "      <td>0</td>\n",
       "      <td>T</td>\n",
       "      <td>Camera</td>\n",
       "      <td>142.99609375, 24.50390625</td>\n",
       "      <td>142.996094</td>\n",
       "      <td>24.503906</td>\n",
       "    </tr>\n",
       "    <tr>\n",
       "      <th>5</th>\n",
       "      <td>0</td>\n",
       "      <td>1</td>\n",
       "      <td>0.14</td>\n",
       "      <td>0</td>\n",
       "      <td>T</td>\n",
       "      <td>Camera</td>\n",
       "      <td>142.5078125, 24.98828125</td>\n",
       "      <td>142.507812</td>\n",
       "      <td>24.988281</td>\n",
       "    </tr>\n",
       "    <tr>\n",
       "      <th>6</th>\n",
       "      <td>0</td>\n",
       "      <td>1</td>\n",
       "      <td>0.14</td>\n",
       "      <td>0</td>\n",
       "      <td>T</td>\n",
       "      <td>Camera</td>\n",
       "      <td>139.6171875, 27.8828125</td>\n",
       "      <td>139.617188</td>\n",
       "      <td>27.882812</td>\n",
       "    </tr>\n",
       "  </tbody>\n",
       "</table>\n",
       "</div>"
      ],
      "text/plain": [
       "   game_id  winner  time  player species   event             event_contents  \\\n",
       "0        0       1  0.00       0       T  Camera         145.25, 21.5078125   \n",
       "1        0       1  0.00       1       T  Camera         22.75, 147.0078125   \n",
       "4        0       1  0.14       0       T  Camera  142.99609375, 24.50390625   \n",
       "5        0       1  0.14       0       T  Camera   142.5078125, 24.98828125   \n",
       "6        0       1  0.14       0       T  Camera    139.6171875, 27.8828125   \n",
       "\n",
       "   Camera_loc_x  Camera_loc_y  \n",
       "0    145.250000     21.507812  \n",
       "1     22.750000    147.007812  \n",
       "4    142.996094     24.503906  \n",
       "5    142.507812     24.988281  \n",
       "6    139.617188     27.882812  "
      ]
     },
     "execution_count": 11,
     "metadata": {},
     "output_type": "execute_result"
    }
   ],
   "source": [
    "train.head()"
   ]
  },
  {
   "cell_type": "code",
   "execution_count": null,
   "id": "16826598-2296-460a-ab7e-188b268bc7c0",
   "metadata": {},
   "outputs": [],
   "source": [
    "train.to_csv('/Users/choejeehyuk/경4났조/235583_행동 데이터 분석 인공지능 AI 경진대회_data/train_coordinate.csv')"
   ]
  },
  {
   "cell_type": "code",
   "execution_count": null,
   "id": "29b543a5-d0b1-4f90-b38b-3e3ecafa7021",
   "metadata": {},
   "outputs": [],
   "source": [
    "train = pd.read_csv('/Users/choejeehyuk/경4났조/235583_행동 데이터 분석 인공지능 AI 경진대회_data/train_coordinate.csv')"
   ]
  },
  {
   "cell_type": "markdown",
   "id": "3821db8c-e4d1-45bb-80c1-3a69f66da447",
   "metadata": {},
   "source": [
    "#### 두 명의 카메라 기록을 저장할 2채널 192x92 이미지 생성, 3번째 채널은 미사용"
   ]
  },
  {
   "cell_type": "code",
   "execution_count": 12,
   "id": "b76e3adb-e733-4a58-948b-b6ccaca81ab9",
   "metadata": {},
   "outputs": [],
   "source": [
    "def draw_trace(game_id):\n",
    "    trace = np.zeros([192, 192,3], float) # 두 명의 카메라 기록을 저장할 2채널 192x92 이미지 생성, 3번째 채널은 미사용\n",
    "    \n",
    "    # 플레이어0의 카메라 기록을 Red 채널에 저장\n",
    "    r = np.array(train[(train.game_id=='game_id')&(train.player==0)].loc[:, ['Camera_loc_x', 'Camera_loc_y']])\n",
    "    try:\n",
    "        r, c = np.unique(r, axis = 0, return_counts=True) # r은 좌표, c는 좌표 등장 횟수\n",
    "        c = c.reshape([c.shape[0],1]) #shape[0], shape[1]를 이용하여 전체 행의 갯수와 열의 갯수를 반환받을 수 있다.\n",
    "        r = np.concatenate((r, c), axis = 1)\n",
    "        for loc in r:\n",
    "            trace[192-int(loc[1]), int(loc[0]), 0] = loc[2] # y축과 배열의 방향이 반대여서 보정\n",
    "        del r\n",
    "    except: # 카메라 이벤트가 한번도 없을 경우\n",
    "        del r\n",
    "        pass\n",
    "    \n",
    "    # 플레이어1의 카메라 기록을 Green 채널에 저장\n",
    "    g = np.array(train[(train.game_id=='game_id')&(train.player==1)].loc[:, ['Camera_loc_x', 'Camera_loc_y']])\n",
    "    try:\n",
    "        g, c = np.unique(g, axis = 0, return_counts=True)\n",
    "        c = c.reshape([c.shape[0],1])\n",
    "        g = np.concatenate((g, c), axis = 1)\n",
    "        for loc in g:\n",
    "            trace[192-int(loc[1]), int(loc[0]), 1] = loc[2]\n",
    "        del g\n",
    "    except:\n",
    "        del g\n",
    "        pass\n",
    "    \n",
    "    trace[:,:,0] /= (np.max(trace[:,:,0])+1e-6) # R 채널 0~1로 정규화\n",
    "    trace[:,:,1] /= (np.max(trace[:,:,1])+1e-6) # G 채널 0~1로 정규화\n",
    "    \n",
    "    return trace"
   ]
  },
  {
   "cell_type": "markdown",
   "id": "9d67b0e8-2cc8-4373-9acf-01185d46ea8b",
   "metadata": {},
   "source": [
    "https://jvvp.tistory.com/1085"
   ]
  },
  {
   "cell_type": "code",
   "execution_count": 13,
   "id": "eec4e912-d917-4f8a-ba77-59ff90fccf65",
   "metadata": {},
   "outputs": [],
   "source": [
    "def show_img(trace):\n",
    "    plt.imshow(trace)\n",
    "    plt.show()\n",
    "    print('카메라 좌표를 점으로만 표시\\n\\n')\n",
    "    \n",
    "    trace = cv2.dilate(trace, np.ones((20,30))) # diation. 점이 필터사이즈(20,30)로 변함.\n",
    "    plt.imshow(trace)\n",
    "    plt.show()\n",
    "    print('dilation을 이용하여 보이는 영역 표시\\n\\n')\n",
    "    \n",
    "    battle = trace[:,:,0]*trace[:,:,1]\n",
    "    battle /= np.max(battle)\n",
    "    plt.imshow(battle)\n",
    "    plt.show()\n",
    "    print('각 플레이어의 화면을 곱하여 공통으로 본 영역만 남김\\n\\n')\n",
    "    \n",
    "    battle = np.where(battle!=1, 0, battle)\n",
    "    plt.imshow(battle)\n",
    "    plt.show()\n",
    "    print('가장 많이 겹친 지역만 남김\\n\\n')\n",
    "    \n",
    "    battle = battle*255\n",
    "    battle = battle.astype('uint8')\n",
    "    nlabels, labels, stats, centroids = cv2.connectedComponentsWithStats(battle)\n",
    "    x, y, width, height, area = stats[1]\n",
    "    print('center_x :', x+width/2, 'center_y :', y+height/2, 'area :', area)"
   ]
  },
  {
   "cell_type": "code",
   "execution_count": 14,
   "id": "247bf363-756c-4a9d-bc72-cd7d74b0110e",
   "metadata": {},
   "outputs": [
    {
     "data": {
      "image/png": "[encoded data removed]",
      "text/plain": [
       "<Figure size 432x288 with 1 Axes>"
      ]
     },
     "metadata": {
      "needs_background": "light"
     },
     "output_type": "display_data"
    },
    {
     "name": "stdout",
     "output_type": "stream",
     "text": [
      "카메라 좌표를 점으로만 표시\n",
      "\n",
      "\n"
     ]
    },
    {
     "data": {
      "image/png": "[encoded data removed]",
      "text/plain": [
       "<Figure size 432x288 with 1 Axes>"
      ]
     },
     "metadata": {
      "needs_background": "light"
     },
     "output_type": "display_data"
    },
    {
     "name": "stdout",
     "output_type": "stream",
     "text": [
      "dilation을 이용하여 보이는 영역 표시\n",
      "\n",
      "\n"
     ]
    },
    {
     "name": "stderr",
     "output_type": "stream",
     "text": [
      "/var/folders/fs/kl20xgn54d3bgs5lpqcv3b_00000gn/T/ipykernel_1050/3448377798.py:12: RuntimeWarning: invalid value encountered in true_divide\n",
      "  battle /= np.max(battle)\n"
     ]
    },
    {
     "data": {
      "image/png": "[encoded data removed]",
      "text/plain": [
       "<Figure size 432x288 with 1 Axes>"
      ]
     },
     "metadata": {
      "needs_background": "light"
     },
     "output_type": "display_data"
    },
    {
     "name": "stdout",
     "output_type": "stream",
     "text": [
      "각 플레이어의 화면을 곱하여 공통으로 본 영역만 남김\n",
      "\n",
      "\n"
     ]
    },
    {
     "data": {
      "image/png": "[encoded data removed]",
      "text/plain": [
       "<Figure size 432x288 with 1 Axes>"
      ]
     },
     "metadata": {
      "needs_background": "light"
     },
     "output_type": "display_data"
    },
    {
     "name": "stdout",
     "output_type": "stream",
     "text": [
      "가장 많이 겹친 지역만 남김\n",
      "\n",
      "\n"
     ]
    },
    {
     "ename": "IndexError",
     "evalue": "index 1 is out of bounds for axis 0 with size 1",
     "output_type": "error",
     "traceback": [
      "\u001b[0;31m---------------------------------------------------------------------------\u001b[0m",
      "\u001b[0;31mIndexError\u001b[0m                                Traceback (most recent call last)",
      "Input \u001b[0;32mIn [14]\u001b[0m, in \u001b[0;36m<cell line: 2>\u001b[0;34m()\u001b[0m\n\u001b[1;32m      1\u001b[0m trace \u001b[38;5;241m=\u001b[39m draw_trace(\u001b[38;5;241m0\u001b[39m)\n\u001b[0;32m----> 2\u001b[0m \u001b[43mshow_img\u001b[49m\u001b[43m(\u001b[49m\u001b[43mtrace\u001b[49m\u001b[43m)\u001b[49m\n",
      "Input \u001b[0;32mIn [13]\u001b[0m, in \u001b[0;36mshow_img\u001b[0;34m(trace)\u001b[0m\n\u001b[1;32m     23\u001b[0m battle \u001b[38;5;241m=\u001b[39m battle\u001b[38;5;241m.\u001b[39mastype(\u001b[38;5;124m'\u001b[39m\u001b[38;5;124muint8\u001b[39m\u001b[38;5;124m'\u001b[39m)\n\u001b[1;32m     24\u001b[0m nlabels, labels, stats, centroids \u001b[38;5;241m=\u001b[39m cv2\u001b[38;5;241m.\u001b[39mconnectedComponentsWithStats(battle)\n\u001b[0;32m---> 25\u001b[0m x, y, width, height, area \u001b[38;5;241m=\u001b[39m \u001b[43mstats\u001b[49m\u001b[43m[\u001b[49m\u001b[38;5;241;43m1\u001b[39;49m\u001b[43m]\u001b[49m\n\u001b[1;32m     26\u001b[0m \u001b[38;5;28mprint\u001b[39m(\u001b[38;5;124m'\u001b[39m\u001b[38;5;124mcenter_x :\u001b[39m\u001b[38;5;124m'\u001b[39m, x\u001b[38;5;241m+\u001b[39mwidth\u001b[38;5;241m/\u001b[39m\u001b[38;5;241m2\u001b[39m, \u001b[38;5;124m'\u001b[39m\u001b[38;5;124mcenter_y :\u001b[39m\u001b[38;5;124m'\u001b[39m, y\u001b[38;5;241m+\u001b[39mheight\u001b[38;5;241m/\u001b[39m\u001b[38;5;241m2\u001b[39m, \u001b[38;5;124m'\u001b[39m\u001b[38;5;124marea :\u001b[39m\u001b[38;5;124m'\u001b[39m, area)\n",
      "\u001b[0;31mIndexError\u001b[0m: index 1 is out of bounds for axis 0 with size 1"
     ]
    }
   ],
   "source": [
    "trace = draw_trace(0)\n",
    "show_img(trace)"
   ]
  },
  {
   "cell_type": "code",
   "execution_count": 15,
   "id": "b34c9f4b-4e48-428e-8c3c-06f1e6995f88",
   "metadata": {},
   "outputs": [
    {
     "data": {
      "image/png": "[encoded data removed]",
      "text/plain": [
       "<Figure size 432x288 with 1 Axes>"
      ]
     },
     "metadata": {
      "needs_background": "light"
     },
     "output_type": "display_data"
    },
    {
     "name": "stdout",
     "output_type": "stream",
     "text": [
      "카메라 좌표를 점으로만 표시\n",
      "\n",
      "\n"
     ]
    },
    {
     "data": {
      "image/png": "[encoded data removed]",
      "text/plain": [
       "<Figure size 432x288 with 1 Axes>"
      ]
     },
     "metadata": {
      "needs_background": "light"
     },
     "output_type": "display_data"
    },
    {
     "name": "stdout",
     "output_type": "stream",
     "text": [
      "dilation을 이용하여 보이는 영역 표시\n",
      "\n",
      "\n"
     ]
    },
    {
     "name": "stderr",
     "output_type": "stream",
     "text": [
      "/var/folders/fs/kl20xgn54d3bgs5lpqcv3b_00000gn/T/ipykernel_1050/3448377798.py:12: RuntimeWarning: invalid value encountered in true_divide\n",
      "  battle /= np.max(battle)\n"
     ]
    },
    {
     "data": {
      "image/png": "[encoded data removed]",
      "text/plain": [
       "<Figure size 432x288 with 1 Axes>"
      ]
     },
     "metadata": {
      "needs_background": "light"
     },
     "output_type": "display_data"
    },
    {
     "name": "stdout",
     "output_type": "stream",
     "text": [
      "각 플레이어의 화면을 곱하여 공통으로 본 영역만 남김\n",
      "\n",
      "\n"
     ]
    },
    {
     "data": {
      "image/png": "[encoded data removed]",
      "text/plain": [
       "<Figure size 432x288 with 1 Axes>"
      ]
     },
     "metadata": {
      "needs_background": "light"
     },
     "output_type": "display_data"
    },
    {
     "name": "stdout",
     "output_type": "stream",
     "text": [
      "가장 많이 겹친 지역만 남김\n",
      "\n",
      "\n"
     ]
    },
    {
     "ename": "IndexError",
     "evalue": "index 1 is out of bounds for axis 0 with size 1",
     "output_type": "error",
     "traceback": [
      "\u001b[0;31m---------------------------------------------------------------------------\u001b[0m",
      "\u001b[0;31mIndexError\u001b[0m                                Traceback (most recent call last)",
      "Input \u001b[0;32mIn [15]\u001b[0m, in \u001b[0;36m<cell line: 2>\u001b[0;34m()\u001b[0m\n\u001b[1;32m      1\u001b[0m trace \u001b[38;5;241m=\u001b[39m draw_trace(\u001b[38;5;241m99\u001b[39m)\n\u001b[0;32m----> 2\u001b[0m \u001b[43mshow_img\u001b[49m\u001b[43m(\u001b[49m\u001b[43mtrace\u001b[49m\u001b[43m)\u001b[49m\n",
      "Input \u001b[0;32mIn [13]\u001b[0m, in \u001b[0;36mshow_img\u001b[0;34m(trace)\u001b[0m\n\u001b[1;32m     23\u001b[0m battle \u001b[38;5;241m=\u001b[39m battle\u001b[38;5;241m.\u001b[39mastype(\u001b[38;5;124m'\u001b[39m\u001b[38;5;124muint8\u001b[39m\u001b[38;5;124m'\u001b[39m)\n\u001b[1;32m     24\u001b[0m nlabels, labels, stats, centroids \u001b[38;5;241m=\u001b[39m cv2\u001b[38;5;241m.\u001b[39mconnectedComponentsWithStats(battle)\n\u001b[0;32m---> 25\u001b[0m x, y, width, height, area \u001b[38;5;241m=\u001b[39m \u001b[43mstats\u001b[49m\u001b[43m[\u001b[49m\u001b[38;5;241;43m1\u001b[39;49m\u001b[43m]\u001b[49m\n\u001b[1;32m     26\u001b[0m \u001b[38;5;28mprint\u001b[39m(\u001b[38;5;124m'\u001b[39m\u001b[38;5;124mcenter_x :\u001b[39m\u001b[38;5;124m'\u001b[39m, x\u001b[38;5;241m+\u001b[39mwidth\u001b[38;5;241m/\u001b[39m\u001b[38;5;241m2\u001b[39m, \u001b[38;5;124m'\u001b[39m\u001b[38;5;124mcenter_y :\u001b[39m\u001b[38;5;124m'\u001b[39m, y\u001b[38;5;241m+\u001b[39mheight\u001b[38;5;241m/\u001b[39m\u001b[38;5;241m2\u001b[39m, \u001b[38;5;124m'\u001b[39m\u001b[38;5;124marea :\u001b[39m\u001b[38;5;124m'\u001b[39m, area)\n",
      "\u001b[0;31mIndexError\u001b[0m: index 1 is out of bounds for axis 0 with size 1"
     ]
    }
   ],
   "source": [
    "trace = draw_trace(99)\n",
    "show_img(trace)"
   ]
  },
  {
   "cell_type": "code",
   "execution_count": null,
   "id": "f967a6a2-684a-437f-b4e3-10978eb8e701",
   "metadata": {},
   "outputs": [],
   "source": []
  },
  {
   "cell_type": "code",
   "execution_count": null,
   "id": "617e00d5-4f19-4fe0-baa0-a506b251d163",
   "metadata": {},
   "outputs": [],
   "source": []
  }
 ],
 "metadata": {
  "kernelspec": {
   "display_name": "Python 3 (ipykernel)",
   "language": "python",
   "name": "python3"
  },
  "language_info": {
   "codemirror_mode": {
    "name": "ipython",
    "version": 3
   },
   "file_extension": ".py",
   "mimetype": "text/x-python",
   "name": "python",
   "nbconvert_exporter": "python",
   "pygments_lexer": "ipython3",
   "version": "3.9.12"
  }
 },
 "nbformat": 4,
 "nbformat_minor": 5
}
