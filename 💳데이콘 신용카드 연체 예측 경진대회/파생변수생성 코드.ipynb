{
 "cells": [
  {
   "cell_type": "code",
   "execution_count": null,
   "id": "5479c50a-f7b4-4157-8be7-262c9774c746",
   "metadata": {},
   "outputs": [],
   "source": [
    "# EDA 사전 세팅\n",
    "%matplotlib inline\n",
    "\n",
    "import os\n",
    "from functools import reduce\n",
    "import matplotlib as mpl\n",
    "import matplotlib.pyplot as plt\n",
    "import matplotlib.font_manager as fm\n",
    "import pandas as pd\n",
    "import numpy as np\n",
    "pd.set_option('display.max_columns', None) ## 모든 열을 출력한다.\n",
    "import seaborn as sns  #데이터 시각화 \n",
    "from sklearn import preprocessing\n",
    "from sklearn.preprocessing import LabelEncoder\n",
    "from sklearn.preprocessing import OneHotEncoder\n",
    "sns.set(font=\"AppleGothic\", \n",
    "\n",
    "        rc={\"axes.unicode_minus\":False},\n",
    "\n",
    "        style='darkgrid')"
   ]
  },
  {
   "cell_type": "code",
   "execution_count": null,
   "id": "99218564-1e08-4749-a11b-a7a1d01967e6",
   "metadata": {},
   "outputs": [],
   "source": [
    "df = pd.read_csv(\"/Users/choejeehyuk/Desktop/DNA/open/train.csv\")\n",
    "df.head(10)\n",
    "df_test = pd.read_csv(\"/Users/choejeehyuk/Desktop/DNA/open/test.csv\")"
   ]
  },
  {
   "cell_type": "code",
   "execution_count": null,
   "id": "a0d5c535-9ab4-4a12-bd51-408f02a897cc",
   "metadata": {},
   "outputs": [],
   "source": [
    "df.drop(['FLAG_MOBIL'], axis=1, inplace=True)\n",
    "df_test.drop(['FLAG_MOBIL'], axis=1, inplace=True)"
   ]
  },
  {
   "cell_type": "code",
   "execution_count": null,
   "id": "b61fd937-b33f-4bdb-b148-6fcdbcb5dbe2",
   "metadata": {},
   "outputs": [],
   "source": [
    "df['DAYS_EMPLOYED'] = df['DAYS_EMPLOYED'].map(lambda x: 0 if x > 0 else x)\n",
    "df_test['DAYS_EMPLOYED'] = df_test['DAYS_EMPLOYED'].map(lambda x: 0 if x > 0 else x)"
   ]
  },
  {
   "cell_type": "code",
   "execution_count": null,
   "id": "fcff8a9e-eb38-42c4-a1bd-a99757ee9d79",
   "metadata": {},
   "outputs": [],
   "source": [
    "feats = ['DAYS_BIRTH', 'begin_month', 'DAYS_EMPLOYED']\n",
    "for feat in feats:\n",
    "    df[feat]=np.abs(df[feat])\n",
    "    df_test[feat]=np.abs(df_test[feat])"
   ]
  },
  {
   "cell_type": "code",
   "execution_count": null,
   "id": "eb49e95d-8740-419c-86c6-a7b76f91ad30",
   "metadata": {},
   "outputs": [],
   "source": [
    "df.fillna('NaN', inplace=True)\n",
    "df_test.fillna('NaN', inplace=True)"
   ]
  },
  {
   "cell_type": "code",
   "execution_count": null,
   "id": "dbeb7b41-9a7d-4b05-91f6-9cd19fec911e",
   "metadata": {},
   "outputs": [],
   "source": [
    "# 나이 만들기\n",
    "df['new_age'] = round(abs(df['DAYS_BIRTH'])/365.5,0).astype(np.int32)\n",
    "df_test['new_age'] = round(abs(df_test['DAYS_BIRTH'])/365.5,0).astype(np.int32)"
   ]
  },
  {
   "cell_type": "code",
   "execution_count": null,
   "id": "b6871ae8-315d-40b4-90e1-e687c4bba72a",
   "metadata": {},
   "outputs": [],
   "source": [
    "df['근속연수'] = df['DAYS_EMPLOYED'] // 365 # 근속연수\n",
    "df['근속월수'] = df['DAYS_EMPLOYED'] // 30 # 근속월수\n",
    "df['임용 월'] = np.floor(df['DAYS_EMPLOYED'] / 30) - ((np.floor(df['DAYS_EMPLOYED'] / 30) / 12).astype(int) * 12) # 고용된 달 \n",
    "df['임용 주'] = np.floor(df['DAYS_EMPLOYED'] / 7) - ((np.floor(df['DAYS_EMPLOYED'] / 7) / 4).astype(int) * 4) # 고용된 주\n",
    "df[\"고용전 날 수\"] = df[\"DAYS_BIRTH\"] - df[\"DAYS_EMPLOYED\"]\n",
    "\n",
    "df_test['근속연수'] = df_test['DAYS_EMPLOYED'] // 365 # 근속연수\n",
    "df_test['근속월수'] = df_test['DAYS_EMPLOYED'] // 30 # 근속월수\n",
    "df_test['임용 월'] = np.floor(df_test['DAYS_EMPLOYED'] / 30) - ((np.floor(df_test['DAYS_EMPLOYED'] / 30) / 12).astype(int) * 12) # 고용된 달 \n",
    "df_test['임용 주'] = np.floor(df_test['DAYS_EMPLOYED'] / 7) - ((np.floor(df_test['DAYS_EMPLOYED'] / 7) / 4).astype(int) * 4) # 고용된 주\n",
    "df_test[\"고용전 날 수\"] = df_test[\"DAYS_BIRTH\"] - df_test[\"DAYS_EMPLOYED\"]"
   ]
  },
  {
   "cell_type": "code",
   "execution_count": null,
   "id": "1aeda51b-c169-4978-8e34-c5be3d3f41c3",
   "metadata": {},
   "outputs": [],
   "source": [
    "df['고용비율'] = df['DAYS_EMPLOYED'] / df['DAYS_BIRTH'] # 인생 살면서 일한 비율\n",
    "df['인당 평균 부양비'] = df['income_total'] / df['family_size'] \n",
    "\n",
    "df_test['고용비율'] = df_test['DAYS_EMPLOYED'] / df_test['DAYS_BIRTH'] # 인생 살면서 일한 비율\n",
    "df_test['인당 평균 부양비'] = df_test['income_total'] / df_test['family_size'] "
   ]
  },
  {
   "cell_type": "code",
   "execution_count": null,
   "id": "dfac2519-fef6-4ede-a6e0-7dbc29ddda3b",
   "metadata": {},
   "outputs": [],
   "source": [
    "df_test['연봉'] = df_test['income_total'] / (df_test['근속연수'])\n",
    "df_test['연봉'] = df_test['income_total'] / (df_test['근속연수'])"
   ]
  },
  {
   "cell_type": "code",
   "execution_count": null,
   "id": "092c8598-2de2-40b3-9feb-170949b048dd",
   "metadata": {},
   "outputs": [],
   "source": [
    "df = df[(df['family_size'] <= 7)]\n",
    "df = df.reset_index(drop=True)\n",
    "\n",
    "df_test = df_test[(df_test['family_size'] <= 7)]\n",
    "df_test = df_test.reset_index(drop=True)"
   ]
  },
  {
   "cell_type": "code",
   "execution_count": null,
   "id": "bbaded2a-f3fe-493e-992e-744fd2b22c33",
   "metadata": {},
   "outputs": [],
   "source": [
    "df = df.drop(['index'], axis = 1)\n",
    "df_test = df_test.drop(['index'], axis = 1)"
   ]
  },
  {
   "cell_type": "code",
   "execution_count": null,
   "id": "3040b5e2-83c9-4b3a-adc0-d319de297022",
   "metadata": {},
   "outputs": [],
   "source": [
    "df[\"자녀 제외 가족 구성원 수\"] = df[\"family_size\"] - df[\"child_num\"]\n",
    "df_test[\"자녀 제외 가족 구성원 수\"] = df_test[\"family_size\"] - df_test[\"child_num\"]"
   ]
  },
  {
   "cell_type": "code",
   "execution_count": null,
   "id": "8f7b0dbd-249d-4177-8944-02e8ab9f93b0",
   "metadata": {},
   "outputs": [],
   "source": [
    "df.to_csv(\"train_data.csv\")"
   ]
  },
  {
   "cell_type": "code",
   "execution_count": null,
   "id": "c374a16f-09cc-428b-aac2-5fb5786b0f62",
   "metadata": {},
   "outputs": [],
   "source": [
    "df_test.to_csv(\"test_df.csv\")"
   ]
  },
  {
   "cell_type": "code",
   "execution_count": null,
   "id": "a7bf73db-842e-483d-939a-ca379b09d745",
   "metadata": {},
   "outputs": [],
   "source": []
  },
  {
   "cell_type": "code",
   "execution_count": null,
   "id": "da6471af-4203-43a3-85af-ce74cb20d58b",
   "metadata": {},
   "outputs": [],
   "source": []
  },
  {
   "cell_type": "code",
   "execution_count": null,
   "id": "226bfcb7-9ad8-42eb-b332-6caef2c28b3e",
   "metadata": {},
   "outputs": [],
   "source": []
  },
  {
   "cell_type": "code",
   "execution_count": null,
   "id": "d3dc4430-9022-4aae-83c0-dd2db33b457c",
   "metadata": {},
   "outputs": [],
   "source": []
  }
 ],
 "metadata": {
  "kernelspec": {
   "display_name": "Python 3 (ipykernel)",
   "language": "python",
   "name": "python3"
  },
  "language_info": {
   "codemirror_mode": {
    "name": "ipython",
    "version": 3
   },
   "file_extension": ".py",
   "mimetype": "text/x-python",
   "name": "python",
   "nbconvert_exporter": "python",
   "pygments_lexer": "ipython3",
   "version": "3.9.12"
  }
 },
 "nbformat": 4,
 "nbformat_minor": 5
}
