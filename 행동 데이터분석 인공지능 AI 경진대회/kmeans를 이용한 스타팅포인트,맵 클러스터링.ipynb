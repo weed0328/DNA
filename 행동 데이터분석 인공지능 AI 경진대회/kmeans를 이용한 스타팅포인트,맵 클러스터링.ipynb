{
 "cells": [
  {
   "cell_type": "code",
   "execution_count": 1,
   "id": "92e4ad91-c20c-40ce-ba31-84dbd0e00980",
   "metadata": {},
   "outputs": [],
   "source": [
    "# EDA 사전 준비사항\n",
    "%matplotlib inline\n",
    "\n",
    "import os\n",
    "import matplotlib as mpl\n",
    "import matplotlib.pyplot as plt\n",
    "import matplotlib.font_manager as fm\n",
    "import pandas as pd\n",
    "import numpy as np\n",
    "import seaborn as sns  #데이터 시각화 \n",
    "from sklearn import preprocessing\n",
    "sns.set(font=\"AppleGothic\", \n",
    "\n",
    "        rc={\"axes.unicode_minus\":False},\n",
    "\n",
    "        style='darkgrid')\n",
    "from sklearn.cluster import KMeans\n",
    "\n",
    "import warnings                             \n",
    "warnings.filterwarnings(\"ignore\")"
   ]
  },
  {
   "cell_type": "code",
   "execution_count": 2,
   "id": "97c812c8-73bd-43fa-b4d8-5eb6f5839bad",
   "metadata": {},
   "outputs": [],
   "source": [
    "train = pd.read_csv('/Users/choejeehyuk/경4났조/235583_행동 데이터 분석 인공지능 AI 경진대회_data/train.csv')"
   ]
  },
  {
   "cell_type": "code",
   "execution_count": 3,
   "id": "b0085f57-4aee-4696-b630-07def832b5ae",
   "metadata": {},
   "outputs": [
    {
     "name": "stdout",
     "output_type": "stream",
     "text": [
      "Empty DataFrame\n",
      "Columns: []\n",
      "Index: [0, 1, 2, 3, 4, 5, 6, 7, 8, 9, 10, 11, 12, 13, 14, 15, 16, 17, 18, 19, 20, 21, 22, 23, 24, 25, 26, 27, 28, 29, 30, 31, 32, 33, 34, 35, 36, 37, 38, 39, 40, 41, 42, 43, 44, 45, 46, 47, 48, 49, 50, 51, 52, 53, 54, 55, 56, 57, 58, 59, 60, 61, 62, 63, 64, 65, 66, 67, 68, 69, 70, 71, 72, 73, 74, 75, 76, 77, 78, 79, 80, 81, 82, 83, 84, 85, 86, 87, 88, 89, 90, 91, 92, 93, 94, 95, 96, 97, 98, 99, ...]\n",
      "\n",
      "[38872 rows x 0 columns]\n"
     ]
    }
   ],
   "source": [
    "df_train = pd.DataFrame(train.game_id.unique(), columns=['game_id'])\n",
    "df_train.index = df_train.game_id\n",
    "df_train = df_train.drop(['game_id'], axis = 1)\n",
    "print(df_train)"
   ]
  },
  {
   "cell_type": "code",
   "execution_count": 5,
   "id": "393519c4-e4e8-4151-8a02-50cfa36982d8",
   "metadata": {},
   "outputs": [
    {
     "data": {
      "text/html": [
       "<div>\n",
       "<style scoped>\n",
       "    .dataframe tbody tr th:only-of-type {\n",
       "        vertical-align: middle;\n",
       "    }\n",
       "\n",
       "    .dataframe tbody tr th {\n",
       "        vertical-align: top;\n",
       "    }\n",
       "\n",
       "    .dataframe thead th {\n",
       "        text-align: right;\n",
       "    }\n",
       "</style>\n",
       "<table border=\"1\" class=\"dataframe\">\n",
       "  <thead>\n",
       "    <tr style=\"text-align: right;\">\n",
       "      <th></th>\n",
       "    </tr>\n",
       "    <tr>\n",
       "      <th>game_id</th>\n",
       "    </tr>\n",
       "  </thead>\n",
       "  <tbody>\n",
       "    <tr>\n",
       "      <th>0</th>\n",
       "    </tr>\n",
       "    <tr>\n",
       "      <th>1</th>\n",
       "    </tr>\n",
       "    <tr>\n",
       "      <th>2</th>\n",
       "    </tr>\n",
       "    <tr>\n",
       "      <th>3</th>\n",
       "    </tr>\n",
       "    <tr>\n",
       "      <th>4</th>\n",
       "    </tr>\n",
       "  </tbody>\n",
       "</table>\n",
       "</div>"
      ],
      "text/plain": [
       "Empty DataFrame\n",
       "Columns: []\n",
       "Index: [0, 1, 2, 3, 4]"
      ]
     },
     "execution_count": 5,
     "metadata": {},
     "output_type": "execute_result"
    }
   ],
   "source": [
    "df_train.head()"
   ]
  },
  {
   "cell_type": "code",
   "execution_count": 6,
   "id": "9cd5f14e-bd9b-406d-8fdc-6f14361083e1",
   "metadata": {},
   "outputs": [
    {
     "name": "stdout",
     "output_type": "stream",
     "text": [
      "          game_id  winner  time  player species   event  \\\n",
      "0               0       1  0.00       0       T  Camera   \n",
      "4               0       1  0.14       0       T  Camera   \n",
      "5               0       1  0.14       0       T  Camera   \n",
      "6               0       1  0.14       0       T  Camera   \n",
      "7               0       1  0.14       0       T  Camera   \n",
      "...           ...     ...   ...     ...     ...     ...   \n",
      "67091763    38871       0  8.50       0       Z  Camera   \n",
      "67091764    38871       0  8.50       0       Z  Camera   \n",
      "67091771    38871       0  8.51       0       Z  Camera   \n",
      "67091773    38871       0  8.52       0       Z  Camera   \n",
      "67091774    38871       0  8.52       0       Z  Camera   \n",
      "\n",
      "                          event_contents  \n",
      "0                at (145.25, 21.5078125)  \n",
      "4         at (142.99609375, 24.50390625)  \n",
      "5          at (142.5078125, 24.98828125)  \n",
      "6           at (139.6171875, 27.8828125)  \n",
      "7           at (138.3359375, 29.1640625)  \n",
      "...                                  ...  \n",
      "67091763     at (145.59375, 63.22265625)  \n",
      "67091764  at (143.67578125, 63.22265625)  \n",
      "67091771    at (139.578125, 62.58203125)  \n",
      "67091773   at (122.42578125, 45.4296875)  \n",
      "67091774  at (122.42578125, 43.25390625)  \n",
      "\n",
      "[15834817 rows x 7 columns]\n",
      "          game_id  winner  time  player species   event  \\\n",
      "0               0       1   0.0       0       T  Camera   \n",
      "1141            1       1   0.0       0       P  Camera   \n",
      "3575            2       0   0.0       0       P  Camera   \n",
      "5796            3       0   0.0       0       T  Camera   \n",
      "8808            4       0   0.0       0       T  Camera   \n",
      "...           ...     ...   ...     ...     ...     ...   \n",
      "67082734    38867       1   0.0       0       T  Camera   \n",
      "67084023    38868       0   0.0       0       T  Camera   \n",
      "67085604    38869       0   0.0       0       P  Camera   \n",
      "67087670    38870       1   0.0       0       P  Camera   \n",
      "67088669    38871       0   0.0       0       Z  Camera   \n",
      "\n",
      "                    event_contents  \n",
      "0          at (145.25, 21.5078125)  \n",
      "1141       at (140.0, 162.0078125)  \n",
      "3575       at (151.25, 20.5078125)  \n",
      "5796       at (127.25, 27.5078125)  \n",
      "8808       at (36.75, 122.0078125)  \n",
      "...                            ...  \n",
      "67082734   at (22.75, 147.0078125)  \n",
      "67084023     at (28.0, 18.5078125)  \n",
      "67085604   at (151.25, 20.5078125)  \n",
      "67087670  at (152.25, 142.0078125)  \n",
      "67088669   at (163.25, 18.5078125)  \n",
      "\n",
      "[38866 rows x 7 columns]\n",
      "          game_id          player0_starting\n",
      "0               0   at (145.25, 21.5078125)\n",
      "1141            1   at (140.0, 162.0078125)\n",
      "3575            2   at (151.25, 20.5078125)\n",
      "5796            3   at (127.25, 27.5078125)\n",
      "8808            4   at (36.75, 122.0078125)\n",
      "...           ...                       ...\n",
      "67082734    38867   at (22.75, 147.0078125)\n",
      "67084023    38868     at (28.0, 18.5078125)\n",
      "67085604    38869   at (151.25, 20.5078125)\n",
      "67087670    38870  at (152.25, 142.0078125)\n",
      "67088669    38871   at (163.25, 18.5078125)\n",
      "\n",
      "[38866 rows x 2 columns]\n",
      "         game_id          player0_starting\n",
      "game_id                                   \n",
      "0              0   at (145.25, 21.5078125)\n",
      "1              1   at (140.0, 162.0078125)\n",
      "2              2   at (151.25, 20.5078125)\n",
      "3              3   at (127.25, 27.5078125)\n",
      "4              4   at (36.75, 122.0078125)\n",
      "...          ...                       ...\n",
      "38867      38867   at (22.75, 147.0078125)\n",
      "38868      38868     at (28.0, 18.5078125)\n",
      "38869      38869   at (151.25, 20.5078125)\n",
      "38870      38870  at (152.25, 142.0078125)\n",
      "38871      38871   at (163.25, 18.5078125)\n",
      "\n",
      "[38866 rows x 2 columns]\n",
      "                 player0_starting\n",
      "game_id                          \n",
      "0         at (145.25, 21.5078125)\n",
      "1         at (140.0, 162.0078125)\n",
      "2         at (151.25, 20.5078125)\n",
      "3         at (127.25, 27.5078125)\n",
      "4         at (36.75, 122.0078125)\n",
      "...                           ...\n",
      "38867     at (22.75, 147.0078125)\n",
      "38868       at (28.0, 18.5078125)\n",
      "38869     at (151.25, 20.5078125)\n",
      "38870    at (152.25, 142.0078125)\n",
      "38871     at (163.25, 18.5078125)\n",
      "\n",
      "[38866 rows x 1 columns]\n"
     ]
    }
   ],
   "source": [
    "# 처음 기록 된 카메라 좌표를 기록\n",
    "\n",
    "df_train_p0 = train[(train.event=='Camera')&(train.player==0)]\n",
    "print(df_train_p0)\n",
    "df_train_p0 = df_train_p0[df_train_p0.shift(1).game_id!=df_train_p0.game_id] # 쉬프트를 이용하여 각 게임의 첫번째 데이터 찾기\n",
    "print(df_train_p0)\n",
    "df_train_p0 = df_train_p0.iloc[:, [0,6]].rename({'event_contents':'player0_starting'}, axis = 1)\n",
    "print(df_train_p0)\n",
    "df_train_p0.index = df_train_p0['game_id']\n",
    "print(df_train_p0)\n",
    "df_train_p0 = df_train_p0.drop(['game_id'], axis=1)\n",
    "print(df_train_p0)\n",
    "df_train = pd.merge(df_train, df_train_p0, on='game_id', how='left')\n",
    "del df_train_p0"
   ]
  },
  {
   "cell_type": "code",
   "execution_count": 7,
   "id": "a6cdf0b2-c294-4a4f-b0e4-f212b5405052",
   "metadata": {},
   "outputs": [],
   "source": [
    "df_train_p1 = train[(train.event=='Camera')&(train.player==1)]\n",
    "df_train_p1 = df_train_p1[df_train_p1.shift(1).game_id!=df_train_p1.game_id]\n",
    "df_train_p1 = df_train_p1.iloc[:, [0,6]].rename({'event_contents':'player1_starting'}, axis = 1)\n",
    "df_train_p1.index = df_train_p1['game_id']\n",
    "df_train_p1 = df_train_p1.drop(['game_id'], axis=1)\n",
    "df_train = pd.merge(df_train, df_train_p1, on='game_id', how='left')\n",
    "del df_train_p1"
   ]
  },
  {
   "cell_type": "code",
   "execution_count": 8,
   "id": "c8318bbd-cdfb-4be6-a593-c4ad4f42db67",
   "metadata": {},
   "outputs": [
    {
     "data": {
      "text/html": [
       "<div>\n",
       "<style scoped>\n",
       "    .dataframe tbody tr th:only-of-type {\n",
       "        vertical-align: middle;\n",
       "    }\n",
       "\n",
       "    .dataframe tbody tr th {\n",
       "        vertical-align: top;\n",
       "    }\n",
       "\n",
       "    .dataframe thead th {\n",
       "        text-align: right;\n",
       "    }\n",
       "</style>\n",
       "<table border=\"1\" class=\"dataframe\">\n",
       "  <thead>\n",
       "    <tr style=\"text-align: right;\">\n",
       "      <th></th>\n",
       "      <th>player0_starting</th>\n",
       "      <th>player1_starting</th>\n",
       "    </tr>\n",
       "    <tr>\n",
       "      <th>game_id</th>\n",
       "      <th></th>\n",
       "      <th></th>\n",
       "    </tr>\n",
       "  </thead>\n",
       "  <tbody>\n",
       "    <tr>\n",
       "      <th>0</th>\n",
       "      <td>at (145.25, 21.5078125)</td>\n",
       "      <td>at (22.75, 147.0078125)</td>\n",
       "    </tr>\n",
       "    <tr>\n",
       "      <th>1</th>\n",
       "      <td>at (140.0, 162.0078125)</td>\n",
       "      <td>at (28.0, 18.5078125)</td>\n",
       "    </tr>\n",
       "    <tr>\n",
       "      <th>2</th>\n",
       "      <td>at (151.25, 20.5078125)</td>\n",
       "      <td>at (24.75, 128.0078125)</td>\n",
       "    </tr>\n",
       "    <tr>\n",
       "      <th>3</th>\n",
       "      <td>at (127.25, 27.5078125)</td>\n",
       "      <td>at (24.75, 137.0078125)</td>\n",
       "    </tr>\n",
       "    <tr>\n",
       "      <th>4</th>\n",
       "      <td>at (36.75, 122.0078125)</td>\n",
       "      <td>at (163.25, 18.5078125)</td>\n",
       "    </tr>\n",
       "  </tbody>\n",
       "</table>\n",
       "</div>"
      ],
      "text/plain": [
       "                player0_starting         player1_starting\n",
       "game_id                                                  \n",
       "0        at (145.25, 21.5078125)  at (22.75, 147.0078125)\n",
       "1        at (140.0, 162.0078125)    at (28.0, 18.5078125)\n",
       "2        at (151.25, 20.5078125)  at (24.75, 128.0078125)\n",
       "3        at (127.25, 27.5078125)  at (24.75, 137.0078125)\n",
       "4        at (36.75, 122.0078125)  at (163.25, 18.5078125)"
      ]
     },
     "execution_count": 8,
     "metadata": {},
     "output_type": "execute_result"
    }
   ],
   "source": [
    "df_train.head()"
   ]
  },
  {
   "cell_type": "code",
   "execution_count": 9,
   "id": "23ede714-f368-4a7a-8220-46bc477015af",
   "metadata": {},
   "outputs": [],
   "source": [
    "# x, y 값으로 분리\n",
    "\n",
    "df_train['player0_starting'] = df_train.player0_starting.str.split('(').str[1]\n",
    "df_train['player0_starting'] = df_train.player0_starting.str.split(')').str[0]\n",
    "split_xy = df_train.player0_starting.str.split(',')\n",
    "df_train['player0_x'] = split_xy.str[0].astype('float')\n",
    "df_train['player0_y'] = split_xy.str[1].astype('float')\n",
    "del split_xy\n",
    "\n",
    "df_train['player1_starting'] = df_train.player1_starting.str.split('(').str[1]\n",
    "df_train['player1_starting'] = df_train.player1_starting.str.split(')').str[0]\n",
    "split_xy = df_train.player1_starting.str.split(',')\n",
    "df_train['player1_x'] = split_xy.str[0].astype('float')\n",
    "df_train['player1_y'] = split_xy.str[1].astype('float')\n",
    "del split_xy"
   ]
  },
  {
   "cell_type": "code",
   "execution_count": 1,
   "id": "26f5c3c3-2c39-4bf0-bffc-8b54186795a7",
   "metadata": {},
   "outputs": [
    {
     "ename": "NameError",
     "evalue": "name 'df_train' is not defined",
     "output_type": "error",
     "traceback": [
      "\u001b[0;31m---------------------------------------------------------------------------\u001b[0m",
      "\u001b[0;31mNameError\u001b[0m                                 Traceback (most recent call last)",
      "Input \u001b[0;32mIn [1]\u001b[0m, in \u001b[0;36m<cell line: 1>\u001b[0;34m()\u001b[0m\n\u001b[0;32m----> 1\u001b[0m \u001b[43mdf_train\u001b[49m\u001b[38;5;241m.\u001b[39mhead()\n",
      "\u001b[0;31mNameError\u001b[0m: name 'df_train' is not defined"
     ]
    }
   ],
   "source": [
    "df_train.head()"
   ]
  },
  {
   "cell_type": "code",
   "execution_count": 10,
   "id": "658b6495-48f8-42b9-9480-bf9395e566cb",
   "metadata": {},
   "outputs": [],
   "source": [
    "location_p0 = df_train.loc[:, ['player0_x', 'player0_y']]\n",
    "location_p0 = location_p0.rename({'player0_x':'location_x', 'player0_y':'location_y'}, axis=1)\n",
    "\n",
    "location_p1 = df_train.loc[:, ['player1_x', 'player1_y']]\n",
    "location_p1 = location_p1.rename({'player1_x':'location_x', 'player1_y':'location_y'}, axis=1)\n",
    "location_p1.index += location_p0.index[-1]+1\n",
    "\n",
    "location = pd.concat([location_p0, location_p1])\n",
    "location = location.dropna()\n",
    "del location_p0, location_p1"
   ]
  },
  {
   "cell_type": "code",
   "execution_count": 11,
   "id": "bb5e52fb-2a85-45bc-a8a1-c45995a355b6",
   "metadata": {},
   "outputs": [
    {
     "data": {
      "text/html": [
       "<div>\n",
       "<style scoped>\n",
       "    .dataframe tbody tr th:only-of-type {\n",
       "        vertical-align: middle;\n",
       "    }\n",
       "\n",
       "    .dataframe tbody tr th {\n",
       "        vertical-align: top;\n",
       "    }\n",
       "\n",
       "    .dataframe thead th {\n",
       "        text-align: right;\n",
       "    }\n",
       "</style>\n",
       "<table border=\"1\" class=\"dataframe\">\n",
       "  <thead>\n",
       "    <tr style=\"text-align: right;\">\n",
       "      <th></th>\n",
       "      <th>location_x</th>\n",
       "      <th>location_y</th>\n",
       "    </tr>\n",
       "    <tr>\n",
       "      <th>game_id</th>\n",
       "      <th></th>\n",
       "      <th></th>\n",
       "    </tr>\n",
       "  </thead>\n",
       "  <tbody>\n",
       "    <tr>\n",
       "      <th>0</th>\n",
       "      <td>145.25</td>\n",
       "      <td>21.507812</td>\n",
       "    </tr>\n",
       "    <tr>\n",
       "      <th>1</th>\n",
       "      <td>140.00</td>\n",
       "      <td>162.007812</td>\n",
       "    </tr>\n",
       "    <tr>\n",
       "      <th>2</th>\n",
       "      <td>151.25</td>\n",
       "      <td>20.507812</td>\n",
       "    </tr>\n",
       "    <tr>\n",
       "      <th>3</th>\n",
       "      <td>127.25</td>\n",
       "      <td>27.507812</td>\n",
       "    </tr>\n",
       "    <tr>\n",
       "      <th>4</th>\n",
       "      <td>36.75</td>\n",
       "      <td>122.007812</td>\n",
       "    </tr>\n",
       "  </tbody>\n",
       "</table>\n",
       "</div>"
      ],
      "text/plain": [
       "         location_x  location_y\n",
       "game_id                        \n",
       "0            145.25   21.507812\n",
       "1            140.00  162.007812\n",
       "2            151.25   20.507812\n",
       "3            127.25   27.507812\n",
       "4             36.75  122.007812"
      ]
     },
     "execution_count": 11,
     "metadata": {},
     "output_type": "execute_result"
    }
   ],
   "source": [
    "location.head()"
   ]
  },
  {
   "cell_type": "code",
   "execution_count": 12,
   "id": "4cf3412a-f508-4484-b107-e5b8f89e242e",
   "metadata": {},
   "outputs": [
    {
     "data": {
      "image/png": "[encoded data removed]",
      "text/plain": [
       "<Figure size 360x360 with 1 Axes>"
      ]
     },
     "metadata": {},
     "output_type": "display_data"
    }
   ],
   "source": [
    "# 모든 포인트 시각화\n",
    "sns.lmplot('location_x', 'location_y', data = location, fit_reg=False)\n",
    "plt.title('starting point')\n",
    "plt.show()"
   ]
  },
  {
   "cell_type": "code",
   "execution_count": 13,
   "id": "839dd729-7c04-47c4-b40b-035971e59e5c",
   "metadata": {},
   "outputs": [
    {
     "data": {
      "text/plain": [
       "24.75, 128.0078125          3123\n",
       "22.75, 147.0078125          3084\n",
       "145.25, 21.5078125          3072\n",
       "151.25, 20.5078125          3055\n",
       "152.25, 142.0078125         2716\n",
       "31.75, 22.5078125           2666\n",
       "24.75, 137.0078125          2612\n",
       "127.25, 27.5078125          2585\n",
       "163.25, 18.5078125          2446\n",
       "28.0, 18.5078125            2412\n",
       "140.0, 162.0078125          2355\n",
       "36.75, 122.0078125          2290\n",
       "135.25, 31.5078125          1225\n",
       "22.25, 81.5078125           1207\n",
       "120.25, 153.83984375        1202\n",
       "36.74609375, 122.0078125     247\n",
       "145.25, 21.51171875           64\n",
       "24.75, 128.01171875           60\n",
       "163.25, 18.51171875           59\n",
       "28.0, 18.51171875             58\n",
       "Name: player0_starting, dtype: int64"
      ]
     },
     "execution_count": 13,
     "metadata": {},
     "output_type": "execute_result"
    }
   ],
   "source": [
    "# 스타팅 컬럼을 카운팅을 해보면 15개의 포이트가 많음\n",
    "# 15개의 스타팅포인트 존재\n",
    "df_train.player0_starting.value_counts().head(20)"
   ]
  },
  {
   "cell_type": "code",
   "execution_count": 14,
   "id": "0900f6cb-b75d-487c-a44d-8ff5d2d1796d",
   "metadata": {},
   "outputs": [],
   "source": [
    "# kmeans를 이용하여 15개로 클러스터링\n",
    "kmeans_clst = KMeans(n_clusters=15).fit(location)\n",
    "location['starting'] = kmeans_clst.labels_+1"
   ]
  },
  {
   "cell_type": "code",
   "execution_count": 15,
   "id": "5b1aab5c-d587-405e-99e6-390edc9c2b5b",
   "metadata": {},
   "outputs": [
    {
     "data": {
      "text/html": [
       "<div>\n",
       "<style scoped>\n",
       "    .dataframe tbody tr th:only-of-type {\n",
       "        vertical-align: middle;\n",
       "    }\n",
       "\n",
       "    .dataframe tbody tr th {\n",
       "        vertical-align: top;\n",
       "    }\n",
       "\n",
       "    .dataframe thead th {\n",
       "        text-align: right;\n",
       "    }\n",
       "</style>\n",
       "<table border=\"1\" class=\"dataframe\">\n",
       "  <thead>\n",
       "    <tr style=\"text-align: right;\">\n",
       "      <th></th>\n",
       "      <th>location_x</th>\n",
       "      <th>location_y</th>\n",
       "      <th>starting</th>\n",
       "    </tr>\n",
       "    <tr>\n",
       "      <th>game_id</th>\n",
       "      <th></th>\n",
       "      <th></th>\n",
       "      <th></th>\n",
       "    </tr>\n",
       "  </thead>\n",
       "  <tbody>\n",
       "    <tr>\n",
       "      <th>0</th>\n",
       "      <td>145.25</td>\n",
       "      <td>21.507812</td>\n",
       "      <td>6</td>\n",
       "    </tr>\n",
       "    <tr>\n",
       "      <th>1</th>\n",
       "      <td>140.00</td>\n",
       "      <td>162.007812</td>\n",
       "      <td>3</td>\n",
       "    </tr>\n",
       "    <tr>\n",
       "      <th>2</th>\n",
       "      <td>151.25</td>\n",
       "      <td>20.507812</td>\n",
       "      <td>14</td>\n",
       "    </tr>\n",
       "    <tr>\n",
       "      <th>3</th>\n",
       "      <td>127.25</td>\n",
       "      <td>27.507812</td>\n",
       "      <td>13</td>\n",
       "    </tr>\n",
       "    <tr>\n",
       "      <th>4</th>\n",
       "      <td>36.75</td>\n",
       "      <td>122.007812</td>\n",
       "      <td>1</td>\n",
       "    </tr>\n",
       "  </tbody>\n",
       "</table>\n",
       "</div>"
      ],
      "text/plain": [
       "         location_x  location_y  starting\n",
       "game_id                                  \n",
       "0            145.25   21.507812         6\n",
       "1            140.00  162.007812         3\n",
       "2            151.25   20.507812        14\n",
       "3            127.25   27.507812        13\n",
       "4             36.75  122.007812         1"
      ]
     },
     "execution_count": 15,
     "metadata": {},
     "output_type": "execute_result"
    }
   ],
   "source": [
    "location.head()"
   ]
  },
  {
   "cell_type": "code",
   "execution_count": 16,
   "id": "8ba88721-3654-444a-bbd6-1c25631d9561",
   "metadata": {},
   "outputs": [
    {
     "data": {
      "image/png": "[encoded data removed]",
      "text/plain": [
       "<Figure size 414.6x360 with 1 Axes>"
      ]
     },
     "metadata": {},
     "output_type": "display_data"
    }
   ],
   "source": [
    "# 클러스트링한 결과를 시각화\n",
    "sns.lmplot('location_x', 'location_y', data = location, fit_reg=False, hue=\"starting\")\n",
    "plt.title('starting point')\n",
    "plt.show()\n",
    "\n",
    "# 초반 진행 화면이 누락 된 게임은 엉뚱하게 분류 됨"
   ]
  },
  {
   "cell_type": "code",
   "execution_count": 17,
   "id": "71f4907b-280e-4ff9-8136-47fcf05bd32f",
   "metadata": {},
   "outputs": [],
   "source": [
    "# kmeans로 찾은 15개의 포인트에서 각 데이터들의 거리 계산\n",
    "for cluster in range(15):\n",
    "    point = location[location.starting==cluster+1]\n",
    "    loc = point.loc[:,['location_x', 'location_y']]\n",
    "    del point\n",
    "    loc['center_x'] = kmeans_clst.cluster_centers_[cluster][0]\n",
    "    loc['center_y'] = kmeans_clst.cluster_centers_[cluster][1]\n",
    "    distance = np.sqrt(np. square(loc.location_x - loc.center_x) + np.square(loc.location_y - loc.center_y))\n",
    "    location.loc[loc.index, 'distance'] = distance\n",
    "    del loc"
   ]
  },
  {
   "cell_type": "code",
   "execution_count": 18,
   "id": "63b03b1a-41a6-4926-b1f5-ccac0250fde1",
   "metadata": {},
   "outputs": [
    {
     "data": {
      "text/html": [
       "<div>\n",
       "<style scoped>\n",
       "    .dataframe tbody tr th:only-of-type {\n",
       "        vertical-align: middle;\n",
       "    }\n",
       "\n",
       "    .dataframe tbody tr th {\n",
       "        vertical-align: top;\n",
       "    }\n",
       "\n",
       "    .dataframe thead th {\n",
       "        text-align: right;\n",
       "    }\n",
       "</style>\n",
       "<table border=\"1\" class=\"dataframe\">\n",
       "  <thead>\n",
       "    <tr style=\"text-align: right;\">\n",
       "      <th></th>\n",
       "      <th>location_x</th>\n",
       "      <th>location_y</th>\n",
       "      <th>starting</th>\n",
       "      <th>distance</th>\n",
       "    </tr>\n",
       "    <tr>\n",
       "      <th>game_id</th>\n",
       "      <th></th>\n",
       "      <th></th>\n",
       "      <th></th>\n",
       "      <th></th>\n",
       "    </tr>\n",
       "  </thead>\n",
       "  <tbody>\n",
       "    <tr>\n",
       "      <th>0</th>\n",
       "      <td>145.25</td>\n",
       "      <td>21.507812</td>\n",
       "      <td>6</td>\n",
       "      <td>0.030681</td>\n",
       "    </tr>\n",
       "    <tr>\n",
       "      <th>1</th>\n",
       "      <td>140.00</td>\n",
       "      <td>162.007812</td>\n",
       "      <td>3</td>\n",
       "      <td>0.022329</td>\n",
       "    </tr>\n",
       "    <tr>\n",
       "      <th>2</th>\n",
       "      <td>151.25</td>\n",
       "      <td>20.507812</td>\n",
       "      <td>14</td>\n",
       "      <td>0.042568</td>\n",
       "    </tr>\n",
       "    <tr>\n",
       "      <th>3</th>\n",
       "      <td>127.25</td>\n",
       "      <td>27.507812</td>\n",
       "      <td>13</td>\n",
       "      <td>0.142016</td>\n",
       "    </tr>\n",
       "    <tr>\n",
       "      <th>4</th>\n",
       "      <td>36.75</td>\n",
       "      <td>122.007812</td>\n",
       "      <td>1</td>\n",
       "      <td>0.141918</td>\n",
       "    </tr>\n",
       "  </tbody>\n",
       "</table>\n",
       "</div>"
      ],
      "text/plain": [
       "         location_x  location_y  starting  distance\n",
       "game_id                                            \n",
       "0            145.25   21.507812         6  0.030681\n",
       "1            140.00  162.007812         3  0.022329\n",
       "2            151.25   20.507812        14  0.042568\n",
       "3            127.25   27.507812        13  0.142016\n",
       "4             36.75  122.007812         1  0.141918"
      ]
     },
     "execution_count": 18,
     "metadata": {},
     "output_type": "execute_result"
    }
   ],
   "source": [
    "location.head()"
   ]
  },
  {
   "cell_type": "code",
   "execution_count": 19,
   "id": "e3f298bd-4129-4106-bd21-1a0f7f9bacbd",
   "metadata": {},
   "outputs": [],
   "source": [
    "# 일정 거리(5)이상 떨어진 데이터는 starting을 0으로 지정\n",
    "idx = location[location.distance>5].index\n",
    "location.loc[idx, 'starting'] = 0\n",
    "del idx\n"
   ]
  },
  {
   "cell_type": "code",
   "execution_count": 20,
   "id": "3689227f-dfda-45bc-9da5-20350febc3eb",
   "metadata": {},
   "outputs": [
    {
     "data": {
      "image/png": "[encoded data removed]",
      "text/plain": [
       "<Figure size 414.6x360 with 1 Axes>"
      ]
     },
     "metadata": {},
     "output_type": "display_data"
    }
   ],
   "source": [
    "# 시각화를 통해 스타팅을 모르는 게임은 분홍색(0)으로 나타며 15개의 스타팅 포인트를 확인 할 수 있음.\n",
    "sns.lmplot('location_x', 'location_y', data = location, fit_reg=False, hue=\"starting\")\n",
    "plt.title('starting point')\n",
    "plt.show()"
   ]
  },
  {
   "cell_type": "code",
   "execution_count": 25,
   "id": "6684bf89-671c-4a03-9988-da5b4c2cb29b",
   "metadata": {},
   "outputs": [],
   "source": [
    "# 6개의 2인용 맵과 1개의 3인용 맵이 존재\n",
    "\n",
    "# TMI: 스타크래프트2 공허의유산 래더에서 3인용 맵이 쓰인적은 '까탈레나' 딱 한 번.\n",
    "# 이를 통해 2017년 7월20일 ~ 2017년 11월16일 사이에 진행 된 게임 정보라는 것을 알 수 있음.\n",
    "# 나머지 6개의 맵은 '어비설리프', '어센션투아이어', '애컬라이트', '인터로퍼', '오딧세이', '메크디포'\n",
    "# 근데 결과 예측하는데 맵 이름 상관 없음"
   ]
  },
  {
   "cell_type": "code",
   "execution_count": null,
   "id": "3a869454-ea3d-423f-8358-81159cde1b49",
   "metadata": {},
   "outputs": [],
   "source": []
  }
 ],
 "metadata": {
  "kernelspec": {
   "display_name": "Python 3 (ipykernel)",
   "language": "python",
   "name": "python3"
  },
  "language_info": {
   "codemirror_mode": {
    "name": "ipython",
    "version": 3
   },
   "file_extension": ".py",
   "mimetype": "text/x-python",
   "name": "python",
   "nbconvert_exporter": "python",
   "pygments_lexer": "ipython3",
   "version": "3.9.12"
  }
 },
 "nbformat": 4,
 "nbformat_minor": 5
}
