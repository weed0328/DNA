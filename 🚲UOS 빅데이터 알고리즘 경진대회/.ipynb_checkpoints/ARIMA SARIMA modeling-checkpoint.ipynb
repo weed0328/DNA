{
 "cells": [
  {
   "cell_type": "code",
   "execution_count": 1,
   "id": "9221fae0-78d9-4b9e-b9e4-e9a96316ada2",
   "metadata": {},
   "outputs": [],
   "source": [
    "# EDA 사전 세팅\n",
    "%matplotlib inline\n",
    "\n",
    "import time\n",
    "import os\n",
    "import openai\n",
    "\n",
    "os.environ['KMP_WARNINGS'] = 'off'\n",
    "from functools import reduce\n",
    "import matplotlib as mpl\n",
    "from datetime import datetime\n",
    "import matplotlib.pyplot as plt\n",
    "import matplotlib.font_manager as fm\n",
    "import pandas as pd\n",
    "import numpy as np\n",
    "pd.set_option('display.max_columns', None) ## 모든 열을 출력한다.\n",
    "import seaborn as sns  #데이터 시각화 \n",
    "sns.set(font=\"AppleGothic\", \n",
    "\n",
    "        rc={\"axes.unicode_minus\":False},\n",
    "        \n",
    "        style='darkgrid')"
   ]
  },
  {
   "cell_type": "code",
   "execution_count": 3,
   "id": "2410a033-9e57-41ba-af24-6527df6a2da4",
   "metadata": {},
   "outputs": [],
   "source": [
    "from statsmodels.tsa.arima.model import ARIMA"
   ]
  },
  {
   "cell_type": "code",
   "execution_count": 2,
   "id": "874427e7-16fa-4597-9116-42fcc9d2b48b",
   "metadata": {},
   "outputs": [],
   "source": [
    "df = pd.read_csv('/Users/choejeehyuk/DNA/🚲UOS 빅데이터 알고리즘 경진대회/train.csv')"
   ]
  },
  {
   "cell_type": "code",
   "execution_count": null,
   "id": "cb892fcd-6f59-4109-ad14-a9fcc0ee548f",
   "metadata": {},
   "outputs": [],
   "source": [
    "def log_diff(data):\n",
    "    log_data = np.log1p(data.copy())\n",
    "    diff_data = log_data.diff()\n",
    "    diff_data.dropna(inplace = True)\n",
    "    \n",
    "    return log_data, diff_data\n",
    "\n",
    "def modeling_arima(modeling_data, fore_data, col):\n",
    "    model_arima = sm.tsa.arima.ARIMA(modeling_data[col], order = pdq[0])\n",
    "    history = model_arima.fit()\n",
    "    history.summary()\n",
    "    pred = history.get_forecast(len(fore_data[col]))\n",
    "    \n",
    "    return pred\n",
    "\n",
    "def rev_diff(train_last.pred, col):\n",
    "    pred_values = pred.predicted_mean\n",
    "    pred_cum\n",
    "    "
   ]
  },
  {
   "cell_type": "code",
   "execution_count": null,
   "id": "5d29d6f8-e9e6-4982-8d6e-7452c14a42a2",
   "metadata": {},
   "outputs": [],
   "source": []
  },
  {
   "cell_type": "code",
   "execution_count": null,
   "id": "5495c058-b58c-4b05-837a-94aaf39fd382",
   "metadata": {},
   "outputs": [],
   "source": []
  },
  {
   "cell_type": "code",
   "execution_count": null,
   "id": "18c2a23a-f841-4152-a2f0-1a4ae9ad5340",
   "metadata": {},
   "outputs": [],
   "source": []
  },
  {
   "cell_type": "code",
   "execution_count": null,
   "id": "940f54a7-189d-402c-89a4-67c979377963",
   "metadata": {},
   "outputs": [],
   "source": []
  },
  {
   "cell_type": "code",
   "execution_count": null,
   "id": "34040d9d-c6a0-49c0-a199-e5e8717ea4b5",
   "metadata": {},
   "outputs": [],
   "source": []
  },
  {
   "cell_type": "code",
   "execution_count": null,
   "id": "047d61b1-50dd-4844-b349-ca7d19de6ffe",
   "metadata": {},
   "outputs": [],
   "source": []
  },
  {
   "cell_type": "code",
   "execution_count": null,
   "id": "c6bf4791-7d43-447d-a4b5-d2211b446372",
   "metadata": {},
   "outputs": [],
   "source": []
  },
  {
   "cell_type": "code",
   "execution_count": null,
   "id": "26de1993-f50f-4a4b-b686-be51adb4d5d7",
   "metadata": {},
   "outputs": [],
   "source": []
  }
 ],
 "metadata": {
  "kernelspec": {
   "display_name": "Python 3 (ipykernel)",
   "language": "python",
   "name": "python3"
  },
  "language_info": {
   "codemirror_mode": {
    "name": "ipython",
    "version": 3
   },
   "file_extension": ".py",
   "mimetype": "text/x-python",
   "name": "python",
   "nbconvert_exporter": "python",
   "pygments_lexer": "ipython3",
   "version": "3.9.12"
  }
 },
 "nbformat": 4,
 "nbformat_minor": 5
}
