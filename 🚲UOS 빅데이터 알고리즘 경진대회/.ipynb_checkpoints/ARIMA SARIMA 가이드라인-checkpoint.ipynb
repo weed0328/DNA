{
 "cells": [
  {
   "cell_type": "markdown",
   "id": "78c4d0ff-d390-44d8-ab52-6087034507e0",
   "metadata": {},
   "source": [
    "# ARIMA SARIMA 가이드라인"
   ]
  },
  {
   "cell_type": "markdown",
   "id": "7fda137c-3391-44d3-b8ed-5f6d9942f6ce",
   "metadata": {
    "tags": []
   },
   "source": [
    "## EDA 사전 세팅"
   ]
  },
  {
   "cell_type": "code",
   "execution_count": 2,
   "id": "aaa2f6d9-b571-439b-ab70-4cec2cec510c",
   "metadata": {},
   "outputs": [],
   "source": [
    "# EDA 사전 세팅\n",
    "%matplotlib inline\n",
    "\n",
    "import time\n",
    "import os\n",
    "import openai\n",
    "import warnings\n",
    "\n",
    "os.environ['KMP_WARNINGS'] = 'off'\n",
    "warnings.filterwarnings('ignore')\n",
    "\n",
    "from functools import reduce\n",
    "import matplotlib as mpl\n",
    "from datetime import datetime as dt\n",
    "import matplotlib.pyplot as plt\n",
    "import matplotlib.font_manager as fm\n",
    "import pandas as pd\n",
    "import numpy as np\n",
    "pd.set_option('display.max_columns', None) ## 모든 열을 출력한다.\n",
    "import seaborn as sns  #데이터 시각화 \n",
    "sns.set(font=\"AppleGothic\",\n",
    "\n",
    "        rc={\"axes.unicode_minus\":False},\n",
    "        \n",
    "        style='darkgrid')"
   ]
  },
  {
   "cell_type": "code",
   "execution_count": null,
   "id": "28defb39-11fd-48ec-baa3-579a507bff57",
   "metadata": {},
   "outputs": [],
   "source": [
    "#ARIMA package\n",
    "!pip install pmdarima # <- ARIMA 파키지 설치하는 코드 만약 ARIMA가 불러와 지지 않는다면 해당 코드를 실행해 보자 "
   ]
  },
  {
   "cell_type": "code",
   "execution_count": null,
   "id": "7945ebe1-5de7-4d69-8dd7-4c2f39bdb100",
   "metadata": {},
   "outputs": [],
   "source": [
    "# 모델링 시 필요한 리이브러리\n",
    "from pmdarima.arima import auto_arima\n",
    "from statsmodels.tsa.arima.model import ARIMA # <- ARIMA 모델링\n",
    "from statsmodels.tsa.statespace.sarimax import SARIMAX # <- SARIMA 모델링\n",
    "import statsmodels.api as sm # <- 시계열 분해\n",
    "import itertools # <- ARIMA 와 SARIMA 모델 최적 파라미터(p, d, q) 찾아주는 코드 작성할 떄 필요 "
   ]
  },
  {
   "cell_type": "markdown",
   "id": "67ccee8f-a078-4911-96f8-e63957a0fe4c",
   "metadata": {},
   "source": [
    "## 데이터 불러오기"
   ]
  },
  {
   "cell_type": "code",
   "execution_count": null,
   "id": "dfc62f07-6f4f-41de-9abf-dbef9eab8f83",
   "metadata": {},
   "outputs": [],
   "source": [
    "# 데이터를 불러오시오"
   ]
  },
  {
   "cell_type": "markdown",
   "id": "81a74145-694f-410d-8ea5-14a4fee472b7",
   "metadata": {},
   "source": [
    "## 데이터 전처리"
   ]
  },
  {
   "cell_type": "markdown",
   "id": "dbd14894-4e76-45f7-826b-a4963465869e",
   "metadata": {},
   "source": [
    "가이드라인 <br> \n",
    "1. 원본 데이터의 일시 변수를 to_datetime 처리하여 시꼐열 데이터 만들기\n",
    "2. datetime 처리한 일시 변수를 인덱스로 지정하기(set_index)\n",
    "3. 인덱스(일시) 기준으로 데이터 정렬하기\n",
    "4. 각 구에서 대여량이 0인 날짜 찾기\n",
    "5. 0인 날짜 행 drop하기\n",
    "6. 보간법을 통해 데이터 채워 넣기"
   ]
  },
  {
   "cell_type": "markdown",
   "id": "27983064-4523-49a0-9ea9-01022946c85c",
   "metadata": {},
   "source": [
    "위 가이드 라인에서 어렵다고 해당되는 부분은 보간법이 유일함으로 보간법에 대한 코드만 간략히 제공<br>\n",
    "보간법이 뭔지는 각각 찾아볼 것"
   ]
  },
  {
   "cell_type": "markdown",
   "id": "4933dff5-5e7e-4e62-9e29-abf7274af3d0",
   "metadata": {},
   "source": [
    "HINT: 데이터의 시간 간격을 일별로 설정하고 결측치(데이터가 0)를 직전의 값으로 채워넣어라."
   ]
  },
  {
   "cell_type": "code",
   "execution_count": null,
   "id": "517b3423-4367-4db1-b187-e7d2cd0dc4ae",
   "metadata": {},
   "outputs": [],
   "source": [
    "data.asfreq(freq= '?', method= '?') # 파라미터는 찾아보시오"
   ]
  },
  {
   "cell_type": "markdown",
   "id": "22b71bc9-bf82-419a-9626-708b099c1dfe",
   "metadata": {},
   "source": [
    "## 시계열 분해"
   ]
  },
  {
   "cell_type": "markdown",
   "id": "8333ac2a-11bd-47d9-aca0-9b99ef617770",
   "metadata": {},
   "source": [
    "가이드 라인\n",
    "1. 시계열을 [30,60,72,90,360] 일 간격으로 분해하여 그래프를 그리시오<br>\n",
    "시계열 분해 코드 베이스 라인은 아래와 같다.<br>\n",
    "아래 파라미터에서 x에는 데이터를, model은 가법 모델을 사용하고 기간은 가이드 라인을 참고하라"
   ]
  },
  {
   "cell_type": "code",
   "execution_count": null,
   "id": "49d3fcbc-0445-4d8b-a568-e0b7db344e4d",
   "metadata": {},
   "outputs": [],
   "source": [
    "decomposition = sm.tsa.seasonal_decompose(x='?',model='?',period='?')\n",
    "\n",
    "fig = decomposition.plot()\n",
    "fig.set_size_inches(11,9)\n",
    "plt.title('model = %s / period = %s' %(model,period),pad=480)\n",
    "plt.show()"
   ]
  },
  {
   "cell_type": "markdown",
   "id": "7c4a31d0-57cf-4f41-8257-0c8989a6c599",
   "metadata": {},
   "source": [
    "## ACF 및 PACF 확인"
   ]
  },
  {
   "cell_type": "markdown",
   "id": "3086ae76-f010-4ee8-b897-24a450de77de",
   "metadata": {},
   "source": [
    "아래 코드는 자기상관함수와 편자기상관함수의 개형을 확인하는 코드이다. <br>\n",
    "파라미터를 채워넣어 시차 50, 150 기준으로 각 구별 ACF 및 PACF의 절단점을 확인해라. "
   ]
  },
  {
   "cell_type": "code",
   "execution_count": null,
   "id": "170b766a-9aee-4ae4-ad60-64697229d2c4",
   "metadata": {},
   "outputs": [],
   "source": [
    "fig,ax = plt.subplots(1,2, figsize=(15,5))\n",
    "sm.graphics.tsa.plot_acf(x='?',lags= '?' ,ax=ax[0])\n",
    "sm.graphics.tsa.plot_pacf(x='?',lags='?',ax=ax[1])"
   ]
  },
  {
   "cell_type": "markdown",
   "id": "559f5bc9-a592-4e6a-a226-961f5aaa9684",
   "metadata": {},
   "source": [
    "## 데이터 분할"
   ]
  },
  {
   "cell_type": "markdown",
   "id": "a7bd5cfc-1ae5-45eb-8d9c-4d87a94f0faa",
   "metadata": {},
   "source": [
    "train_test_split 메서드를 활용하여 데이터를 분리하여라<br> test_size = 0.2"
   ]
  },
  {
   "cell_type": "code",
   "execution_count": null,
   "id": "32955bf2-9bb2-42be-bee2-abfa4602f141",
   "metadata": {},
   "outputs": [],
   "source": []
  },
  {
   "cell_type": "markdown",
   "id": "daad9da5-b5ef-48bc-ba44-0c8a99038d4f",
   "metadata": {},
   "source": [
    "## log & diff"
   ]
  },
  {
   "cell_type": "markdown",
   "id": "3e7695ae-1722-46ab-abfa-7af0efa04149",
   "metadata": {},
   "source": [
    "train 데이터와 test 데이터에 각각 로그 및 차분을 실시하시오 <br>\n",
    "아래는 로그 및 차분을 수행하는 가장 기본적인 베이스라인 코드이다. 기왕이면 함수화하면 좋다."
   ]
  },
  {
   "cell_type": "code",
   "execution_count": null,
   "id": "ee23d205-14cd-449b-a0e2-771abcfa958d",
   "metadata": {},
   "outputs": [],
   "source": [
    "log_data = np.log1p(data)\n",
    "diff_data = log_data.diff()"
   ]
  },
  {
   "cell_type": "markdown",
   "id": "7c895028-e67a-475a-88a5-e6eadb7fa595",
   "metadata": {
    "tags": []
   },
   "source": [
    "### 로그 및 차분을 진행한 데이터의 각 구별 ACF PACF 그래프를 그려라 시차는 10으로 한다. "
   ]
  },
  {
   "cell_type": "code",
   "execution_count": null,
   "id": "f2a528b7-91cb-4893-846d-0e187ae5b669",
   "metadata": {},
   "outputs": [],
   "source": [
    "# 그래프를 그리는 코드는 위에 존재"
   ]
  },
  {
   "cell_type": "markdown",
   "id": "bab9008e-4370-46a9-b942-1229f955ae3a",
   "metadata": {},
   "source": [
    "## ML 모델링"
   ]
  },
  {
   "cell_type": "markdown",
   "id": "19b51e7b-4e68-4533-9b74-ab44ea4ecae5",
   "metadata": {},
   "source": [
    "### ARIMA 모델 파라미터 찾기"
   ]
  },
  {
   "cell_type": "markdown",
   "id": "5ce1e2e5-8e60-479b-af19-e13f584f0113",
   "metadata": {},
   "source": [
    "아래는 p,d,q ARIMA 모델의 최적 파라미터 찾는 함수이다. 해당 함수를 이용해서 최적 파라미터를 찾아라"
   ]
  },
  {
   "cell_type": "code",
   "execution_count": null,
   "id": "5959ad22-edb2-4fcf-b5d1-32a54a6919b8",
   "metadata": {},
   "outputs": [],
   "source": [
    "def find_pdq(data,col):\n",
    "  p = range(0,2)\n",
    "  d = range(0,2)\n",
    "  q = range(0,3)\n",
    "\n",
    "  pdq = list(itertools.product(p,d,q))\n",
    "  aic = []\n",
    "\n",
    "  for i in pdq:\n",
    "    model = sm.tsa.arima.ARIMA(data[col], order=i)\n",
    "    model_fit = model.fit()#transparams=False)\n",
    "    aic.append(model_fit.aic)\n",
    "\n",
    "  optimal = [(pdq[i],j) for i,j in enumerate(aic) if j == min(aic)]\n",
    "  return optimal, aic"
   ]
  },
  {
   "cell_type": "code",
   "execution_count": null,
   "id": "f290264d-afdd-4e37-b7dc-552e4249ba1f",
   "metadata": {},
   "outputs": [],
   "source": [
    "pdq = find_pdq('?','?')[0][0]"
   ]
  },
  {
   "cell_type": "markdown",
   "id": "47227cde-7d02-4941-9381-41e9fd6f2701",
   "metadata": {},
   "source": [
    "### ARIMA"
   ]
  },
  {
   "cell_type": "markdown",
   "id": "fdd0f0d7-d5c7-4a92-92f7-ec62a75befcd",
   "metadata": {},
   "source": [
    "아래는 모델링을 통해 예측값을 도츨하는 함수와 차분 킻 로그 변환한 데ㅣ터를 원래 데이터로 변환해주는 함수이다."
   ]
  },
  {
   "cell_type": "code",
   "execution_count": null,
   "id": "2166d20e-0de3-45e8-887d-e9018c0dcfcd",
   "metadata": {},
   "outputs": [],
   "source": [
    "def modeling_arima(modeling_data, fore_data, col):\n",
    "  model_arima = sm.tsa.arima.ARIMA(modeling_data[col],order = pdq[0])\n",
    "  history = model_arima.fit()\n",
    "  history.summary()\n",
    "  pred = history.get_forecast(len(fore_data[col]))\n",
    "  return pred\n",
    "\n",
    "def rev_diff(train_last,pred, col):\n",
    "  pred_values = pred.predicted_mean\n",
    "  pred_cum = train_last+pred_values.cumsum()\n",
    "  pred_exp_cum = np.expm1(pred_cum)\n",
    "  return pred_exp_cum"
   ]
  },
  {
   "cell_type": "markdown",
   "id": "72425994-eabc-429a-bc13-12ffcde6b700",
   "metadata": {},
   "source": [
    "위 함수를 이용하여 각 구별 예측값을 도출하라. 베이스라인 코드는 아래와 같다."
   ]
  },
  {
   "cell_type": "code",
   "execution_count": null,
   "id": "1d4cf3e6-156b-4977-8a12-2968e7a05cba",
   "metadata": {},
   "outputs": [],
   "source": [
    "# 광진구의 예측값\n",
    "col = '광진구'\n",
    "pred = modeling_arima('?', '?', '?')\n",
    "train_last = log_diff('?')[0][col][-1]\n",
    "rev_pred = rev_diff('?','?',col)\n",
    "rev_pred"
   ]
  },
  {
   "cell_type": "code",
   "execution_count": null,
   "id": "bdad492f-1b95-44db-9906-d78057922e56",
   "metadata": {},
   "outputs": [],
   "source": [
    "plt.plot(rev_pred) 예측값 그래프"
   ]
  },
  {
   "cell_type": "markdown",
   "id": "2496073f-d468-4c10-908e-48bca6d52ffa",
   "metadata": {},
   "source": [
    "### MAE 도출"
   ]
  },
  {
   "cell_type": "code",
   "execution_count": null,
   "id": "4d97a88a-a11e-4002-92ab-f622492362fb",
   "metadata": {},
   "outputs": [],
   "source": [
    "from sklearn.metrics import mean_absolute_error\n",
    "mean_absolute_error(ml_test[col][1:], rev_pred)"
   ]
  },
  {
   "cell_type": "markdown",
   "id": "33706c89-34d7-4e7d-938c-f138ad40fc19",
   "metadata": {},
   "source": [
    "1. 각 구별 예측값을 submission 파일을 불러와 하나의 데이터 프레임으로 만들어라\n",
    "2. 데이콘에 제출해보자\n"
   ]
  },
  {
   "cell_type": "code",
   "execution_count": null,
   "id": "eee94a30-3404-413f-8b72-6ecbc22a3fb9",
   "metadata": {},
   "outputs": [],
   "source": []
  }
 ],
 "metadata": {
  "kernelspec": {
   "display_name": "Python 3 (ipykernel)",
   "language": "python",
   "name": "python3"
  },
  "language_info": {
   "codemirror_mode": {
    "name": "ipython",
    "version": 3
   },
   "file_extension": ".py",
   "mimetype": "text/x-python",
   "name": "python",
   "nbconvert_exporter": "python",
   "pygments_lexer": "ipython3",
   "version": "3.9.12"
  }
 },
 "nbformat": 4,
 "nbformat_minor": 5
}
