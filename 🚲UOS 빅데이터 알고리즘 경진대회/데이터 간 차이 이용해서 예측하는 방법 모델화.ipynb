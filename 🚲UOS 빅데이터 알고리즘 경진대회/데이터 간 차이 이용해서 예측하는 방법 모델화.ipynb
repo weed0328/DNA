{
 "cells": [
  {
   "cell_type": "code",
   "execution_count": 30,
   "id": "6af100dd-abf8-4a53-ab5f-b725d096e5b9",
   "metadata": {},
   "outputs": [],
   "source": [
    "# EDA 사전 세팅\n",
    "%matplotlib inline\n",
    "\n",
    "import time\n",
    "import os\n",
    "import openai\n",
    "\n",
    "os.environ['KMP_WARNINGS'] = 'off'\n",
    "from functools import reduce\n",
    "import matplotlib as mpl\n",
    "from datetime import datetime\n",
    "from statsmodels.tsa.seasonal import seasonal_decompose\n",
    "import matplotlib.pyplot as plt\n",
    "import matplotlib.font_manager as fm\n",
    "import pandas as pd\n",
    "import numpy as np\n",
    "pd.set_option('display.max_columns', None) ## 모든 열을 출력한다.\n",
    "import seaborn as sns  #데이터 시각화 \n",
    "sns.set(font=\"AppleGothic\", \n",
    "\n",
    "        rc={\"axes.unicode_minus\":False},\n",
    "        \n",
    "        style='darkgrid')"
   ]
  },
  {
   "cell_type": "code",
   "execution_count": 31,
   "id": "a9af66b2-7171-49dd-a233-d3e02172ea37",
   "metadata": {},
   "outputs": [],
   "source": [
    "data = pd.read_csv('/Users/choejeehyuk/DNA/🚲UOS 빅데이터 알고리즘 경진대회/train.csv')\n",
    "sample_submission_raw = pd.read_csv('/Users/choejeehyuk/DNA/🚲UOS 빅데이터 알고리즘 경진대회/sample_submission.csv')"
   ]
  },
  {
   "cell_type": "code",
   "execution_count": 32,
   "id": "960a50fe-3526-417d-9d75-f4793b32f096",
   "metadata": {},
   "outputs": [
    {
     "data": {
      "text/html": [
       "<div>\n",
       "<style scoped>\n",
       "    .dataframe tbody tr th:only-of-type {\n",
       "        vertical-align: middle;\n",
       "    }\n",
       "\n",
       "    .dataframe tbody tr th {\n",
       "        vertical-align: top;\n",
       "    }\n",
       "\n",
       "    .dataframe thead th {\n",
       "        text-align: right;\n",
       "    }\n",
       "</style>\n",
       "<table border=\"1\" class=\"dataframe\">\n",
       "  <thead>\n",
       "    <tr style=\"text-align: right;\">\n",
       "      <th></th>\n",
       "      <th>광진구</th>\n",
       "      <th>동대문구</th>\n",
       "      <th>성동구</th>\n",
       "      <th>중랑구</th>\n",
       "    </tr>\n",
       "    <tr>\n",
       "      <th>일시</th>\n",
       "      <th></th>\n",
       "      <th></th>\n",
       "      <th></th>\n",
       "      <th></th>\n",
       "    </tr>\n",
       "  </thead>\n",
       "  <tbody>\n",
       "    <tr>\n",
       "      <th>2018-01-01</th>\n",
       "      <td>0.592</td>\n",
       "      <td>0.368</td>\n",
       "      <td>0.580</td>\n",
       "      <td>0.162</td>\n",
       "    </tr>\n",
       "    <tr>\n",
       "      <th>2018-01-02</th>\n",
       "      <td>0.840</td>\n",
       "      <td>0.614</td>\n",
       "      <td>1.034</td>\n",
       "      <td>0.260</td>\n",
       "    </tr>\n",
       "    <tr>\n",
       "      <th>2018-01-03</th>\n",
       "      <td>0.828</td>\n",
       "      <td>0.576</td>\n",
       "      <td>0.952</td>\n",
       "      <td>0.288</td>\n",
       "    </tr>\n",
       "    <tr>\n",
       "      <th>2018-01-04</th>\n",
       "      <td>0.792</td>\n",
       "      <td>0.542</td>\n",
       "      <td>0.914</td>\n",
       "      <td>0.292</td>\n",
       "    </tr>\n",
       "    <tr>\n",
       "      <th>2018-01-05</th>\n",
       "      <td>0.818</td>\n",
       "      <td>0.602</td>\n",
       "      <td>0.994</td>\n",
       "      <td>0.308</td>\n",
       "    </tr>\n",
       "    <tr>\n",
       "      <th>...</th>\n",
       "      <td>...</td>\n",
       "      <td>...</td>\n",
       "      <td>...</td>\n",
       "      <td>...</td>\n",
       "    </tr>\n",
       "    <tr>\n",
       "      <th>2021-12-27</th>\n",
       "      <td>3.830</td>\n",
       "      <td>3.416</td>\n",
       "      <td>2.908</td>\n",
       "      <td>2.350</td>\n",
       "    </tr>\n",
       "    <tr>\n",
       "      <th>2021-12-28</th>\n",
       "      <td>4.510</td>\n",
       "      <td>3.890</td>\n",
       "      <td>3.714</td>\n",
       "      <td>2.700</td>\n",
       "    </tr>\n",
       "    <tr>\n",
       "      <th>2021-12-29</th>\n",
       "      <td>4.490</td>\n",
       "      <td>3.524</td>\n",
       "      <td>3.660</td>\n",
       "      <td>2.524</td>\n",
       "    </tr>\n",
       "    <tr>\n",
       "      <th>2021-12-30</th>\n",
       "      <td>4.444</td>\n",
       "      <td>3.574</td>\n",
       "      <td>3.530</td>\n",
       "      <td>2.506</td>\n",
       "    </tr>\n",
       "    <tr>\n",
       "      <th>2021-12-31</th>\n",
       "      <td>3.616</td>\n",
       "      <td>3.210</td>\n",
       "      <td>2.620</td>\n",
       "      <td>2.146</td>\n",
       "    </tr>\n",
       "  </tbody>\n",
       "</table>\n",
       "<p>1461 rows × 4 columns</p>\n",
       "</div>"
      ],
      "text/plain": [
       "              광진구   동대문구    성동구    중랑구\n",
       "일시                                    \n",
       "2018-01-01  0.592  0.368  0.580  0.162\n",
       "2018-01-02  0.840  0.614  1.034  0.260\n",
       "2018-01-03  0.828  0.576  0.952  0.288\n",
       "2018-01-04  0.792  0.542  0.914  0.292\n",
       "2018-01-05  0.818  0.602  0.994  0.308\n",
       "...           ...    ...    ...    ...\n",
       "2021-12-27  3.830  3.416  2.908  2.350\n",
       "2021-12-28  4.510  3.890  3.714  2.700\n",
       "2021-12-29  4.490  3.524  3.660  2.524\n",
       "2021-12-30  4.444  3.574  3.530  2.506\n",
       "2021-12-31  3.616  3.210  2.620  2.146\n",
       "\n",
       "[1461 rows x 4 columns]"
      ]
     },
     "execution_count": 32,
     "metadata": {},
     "output_type": "execute_result"
    }
   ],
   "source": [
    "data['일시'] = data['일시'].astype('str')\n",
    "\n",
    "#data['MS'] = pd.to_datetime(data['일시']).dt.to_period('m')\n",
    "data['일시'] = pd.to_datetime(data['일시']).dt.date\n",
    "data = data.set_index('일시')\n",
    "data.sort_index(inplace=True)\n",
    "data\n",
    "    "
   ]
  },
  {
   "cell_type": "code",
   "execution_count": 33,
   "id": "f976d0c2-6c8b-49b2-af68-191e9dfa5280",
   "metadata": {},
   "outputs": [
    {
     "data": {
      "text/plain": [
       "광진구     0\n",
       "동대문구    0\n",
       "성동구     0\n",
       "중랑구     0\n",
       "dtype: int64"
      ]
     },
     "execution_count": 33,
     "metadata": {},
     "output_type": "execute_result"
    }
   ],
   "source": [
    "data.isnull().sum()"
   ]
  },
  {
   "cell_type": "code",
   "execution_count": 34,
   "id": "7e4b9d4c-79d5-444c-afcd-a6f3a8949d25",
   "metadata": {},
   "outputs": [
    {
     "name": "stdout",
     "output_type": "stream",
     "text": [
      "            광진구  동대문구  성동구  중랑구\n",
      "일시                             \n",
      "2019-09-07  0.0   0.0  0.0  0.0\n",
      "            광진구  동대문구  성동구  중랑구\n",
      "일시                             \n",
      "2019-09-07  0.0   0.0  0.0  0.0\n",
      "            광진구  동대문구  성동구  중랑구\n",
      "일시                             \n",
      "2019-09-07  0.0   0.0  0.0  0.0\n",
      "            광진구  동대문구  성동구  중랑구\n",
      "일시                             \n",
      "2019-09-07  0.0   0.0  0.0  0.0\n"
     ]
    }
   ],
   "source": [
    "print(data[data['광진구'] <= 0])\n",
    "print(data[data['성동구'] <= 0])\n",
    "print(data[data['동대문구'] <= 0])\n",
    "print(data[data['중랑구'] <= 0])"
   ]
  },
  {
   "cell_type": "code",
   "execution_count": 35,
   "id": "44de6c6f-4786-4bba-9d1e-226b17223deb",
   "metadata": {},
   "outputs": [],
   "source": [
    "data.drop(data[data['광진구'] == 0].index, inplace=True)"
   ]
  },
  {
   "cell_type": "code",
   "execution_count": 36,
   "id": "86cb2c27-3537-480d-b6e9-08f91eaaa33f",
   "metadata": {},
   "outputs": [
    {
     "data": {
      "text/html": [
       "<div>\n",
       "<style scoped>\n",
       "    .dataframe tbody tr th:only-of-type {\n",
       "        vertical-align: middle;\n",
       "    }\n",
       "\n",
       "    .dataframe tbody tr th {\n",
       "        vertical-align: top;\n",
       "    }\n",
       "\n",
       "    .dataframe thead th {\n",
       "        text-align: right;\n",
       "    }\n",
       "</style>\n",
       "<table border=\"1\" class=\"dataframe\">\n",
       "  <thead>\n",
       "    <tr style=\"text-align: right;\">\n",
       "      <th></th>\n",
       "      <th>광진구</th>\n",
       "      <th>동대문구</th>\n",
       "      <th>성동구</th>\n",
       "      <th>중랑구</th>\n",
       "    </tr>\n",
       "    <tr>\n",
       "      <th>일시</th>\n",
       "      <th></th>\n",
       "      <th></th>\n",
       "      <th></th>\n",
       "      <th></th>\n",
       "    </tr>\n",
       "  </thead>\n",
       "  <tbody>\n",
       "    <tr>\n",
       "      <th>2018-01-01</th>\n",
       "      <td>0.592</td>\n",
       "      <td>0.368</td>\n",
       "      <td>0.580</td>\n",
       "      <td>0.162</td>\n",
       "    </tr>\n",
       "    <tr>\n",
       "      <th>2018-01-02</th>\n",
       "      <td>0.840</td>\n",
       "      <td>0.614</td>\n",
       "      <td>1.034</td>\n",
       "      <td>0.260</td>\n",
       "    </tr>\n",
       "    <tr>\n",
       "      <th>2018-01-03</th>\n",
       "      <td>0.828</td>\n",
       "      <td>0.576</td>\n",
       "      <td>0.952</td>\n",
       "      <td>0.288</td>\n",
       "    </tr>\n",
       "    <tr>\n",
       "      <th>2018-01-04</th>\n",
       "      <td>0.792</td>\n",
       "      <td>0.542</td>\n",
       "      <td>0.914</td>\n",
       "      <td>0.292</td>\n",
       "    </tr>\n",
       "    <tr>\n",
       "      <th>2018-01-05</th>\n",
       "      <td>0.818</td>\n",
       "      <td>0.602</td>\n",
       "      <td>0.994</td>\n",
       "      <td>0.308</td>\n",
       "    </tr>\n",
       "    <tr>\n",
       "      <th>...</th>\n",
       "      <td>...</td>\n",
       "      <td>...</td>\n",
       "      <td>...</td>\n",
       "      <td>...</td>\n",
       "    </tr>\n",
       "    <tr>\n",
       "      <th>2021-12-27</th>\n",
       "      <td>3.830</td>\n",
       "      <td>3.416</td>\n",
       "      <td>2.908</td>\n",
       "      <td>2.350</td>\n",
       "    </tr>\n",
       "    <tr>\n",
       "      <th>2021-12-28</th>\n",
       "      <td>4.510</td>\n",
       "      <td>3.890</td>\n",
       "      <td>3.714</td>\n",
       "      <td>2.700</td>\n",
       "    </tr>\n",
       "    <tr>\n",
       "      <th>2021-12-29</th>\n",
       "      <td>4.490</td>\n",
       "      <td>3.524</td>\n",
       "      <td>3.660</td>\n",
       "      <td>2.524</td>\n",
       "    </tr>\n",
       "    <tr>\n",
       "      <th>2021-12-30</th>\n",
       "      <td>4.444</td>\n",
       "      <td>3.574</td>\n",
       "      <td>3.530</td>\n",
       "      <td>2.506</td>\n",
       "    </tr>\n",
       "    <tr>\n",
       "      <th>2021-12-31</th>\n",
       "      <td>3.616</td>\n",
       "      <td>3.210</td>\n",
       "      <td>2.620</td>\n",
       "      <td>2.146</td>\n",
       "    </tr>\n",
       "  </tbody>\n",
       "</table>\n",
       "<p>1461 rows × 4 columns</p>\n",
       "</div>"
      ],
      "text/plain": [
       "              광진구   동대문구    성동구    중랑구\n",
       "일시                                    \n",
       "2018-01-01  0.592  0.368  0.580  0.162\n",
       "2018-01-02  0.840  0.614  1.034  0.260\n",
       "2018-01-03  0.828  0.576  0.952  0.288\n",
       "2018-01-04  0.792  0.542  0.914  0.292\n",
       "2018-01-05  0.818  0.602  0.994  0.308\n",
       "...           ...    ...    ...    ...\n",
       "2021-12-27  3.830  3.416  2.908  2.350\n",
       "2021-12-28  4.510  3.890  3.714  2.700\n",
       "2021-12-29  4.490  3.524  3.660  2.524\n",
       "2021-12-30  4.444  3.574  3.530  2.506\n",
       "2021-12-31  3.616  3.210  2.620  2.146\n",
       "\n",
       "[1461 rows x 4 columns]"
      ]
     },
     "execution_count": 36,
     "metadata": {},
     "output_type": "execute_result"
    }
   ],
   "source": [
    "data.asfreq(freq='d', method='ffill')"
   ]
  },
  {
   "cell_type": "code",
   "execution_count": 37,
   "id": "e4391a58-9f53-440b-92ec-596add6ae349",
   "metadata": {},
   "outputs": [
    {
     "name": "stdout",
     "output_type": "stream",
     "text": [
      "Empty DataFrame\n",
      "Columns: [광진구, 동대문구, 성동구, 중랑구]\n",
      "Index: []\n",
      "Empty DataFrame\n",
      "Columns: [광진구, 동대문구, 성동구, 중랑구]\n",
      "Index: []\n",
      "Empty DataFrame\n",
      "Columns: [광진구, 동대문구, 성동구, 중랑구]\n",
      "Index: []\n",
      "Empty DataFrame\n",
      "Columns: [광진구, 동대문구, 성동구, 중랑구]\n",
      "Index: []\n"
     ]
    }
   ],
   "source": [
    "print(data[data['광진구'] <= 0])\n",
    "print(data[data['성동구'] <= 0])\n",
    "print(data[data['동대문구'] <= 0])\n",
    "print(data[data['중랑구'] <= 0])"
   ]
  },
  {
   "cell_type": "code",
   "execution_count": 38,
   "id": "d1f7f5f1-07ff-4b7d-a830-8b6de8413801",
   "metadata": {},
   "outputs": [],
   "source": [
    "import statsmodels.api as sm\n",
    "result = sm.tsa.seasonal_decompose(x = data[\"광진구\"],model='additive', period = 360)"
   ]
  },
  {
   "cell_type": "code",
   "execution_count": 39,
   "id": "5f90490e-1b37-437a-805b-d2a75bbd9da0",
   "metadata": {},
   "outputs": [
    {
     "data": {
      "text/plain": [
       "일시\n",
       "2018-01-01   NaN\n",
       "2018-01-02   NaN\n",
       "2018-01-03   NaN\n",
       "2018-01-04   NaN\n",
       "2018-01-05   NaN\n",
       "              ..\n",
       "2021-12-27   NaN\n",
       "2021-12-28   NaN\n",
       "2021-12-29   NaN\n",
       "2021-12-30   NaN\n",
       "2021-12-31   NaN\n",
       "Length: 1460, dtype: float64"
      ]
     },
     "execution_count": 39,
     "metadata": {},
     "output_type": "execute_result"
    }
   ],
   "source": [
    "detrended = data[\"광진구\"] - result.trend\n",
    "detrended"
   ]
  },
  {
   "cell_type": "code",
   "execution_count": 40,
   "id": "a4455e3f-87c3-4d79-8039-ea06861b6e4d",
   "metadata": {},
   "outputs": [
    {
     "name": "stdout",
     "output_type": "stream",
     "text": [
      "              광진구   동대문구    성동구    중랑구   0\n",
      "일시                                        \n",
      "2018-01-01  0.592  0.368  0.580  0.162 NaN\n",
      "2018-01-02  0.840  0.614  1.034  0.260 NaN\n",
      "2018-01-03  0.828  0.576  0.952  0.288 NaN\n",
      "2018-01-04  0.792  0.542  0.914  0.292 NaN\n",
      "2018-01-05  0.818  0.602  0.994  0.308 NaN\n"
     ]
    }
   ],
   "source": [
    "df_detrended = pd.concat([data, detrended], axis=1)\n",
    "#df_detrended.columns = ['original_광진구', 'detrended_광진구']\n",
    "\n",
    "# 결과를 출력합니다.\n",
    "print(df_detrended.head())"
   ]
  },
  {
   "cell_type": "code",
   "execution_count": null,
   "id": "69077373-ba7c-4de8-ab77-0bba43b693e3",
   "metadata": {},
   "outputs": [],
   "source": []
  },
  {
   "cell_type": "code",
   "execution_count": null,
   "id": "161b2216-262e-4a32-92f6-ece24da90d45",
   "metadata": {},
   "outputs": [],
   "source": []
  },
  {
   "cell_type": "code",
   "execution_count": null,
   "id": "64e3b0c8-bb8b-42d5-8ea5-436bf8051890",
   "metadata": {},
   "outputs": [],
   "source": []
  },
  {
   "cell_type": "code",
   "execution_count": null,
   "id": "54364ae3-6acd-452c-854e-0c349efef500",
   "metadata": {},
   "outputs": [],
   "source": []
  },
  {
   "cell_type": "code",
   "execution_count": null,
   "id": "61e4ee9c-4e5b-4a08-bf79-2fb4e29b94ba",
   "metadata": {},
   "outputs": [],
   "source": []
  },
  {
   "cell_type": "code",
   "execution_count": null,
   "id": "74567798-f4f2-45fe-ad17-79bf6320dc23",
   "metadata": {},
   "outputs": [],
   "source": []
  },
  {
   "cell_type": "code",
   "execution_count": null,
   "id": "f6c3a82c-dccb-4f52-9deb-254f5e58d542",
   "metadata": {},
   "outputs": [],
   "source": []
  }
 ],
 "metadata": {
  "kernelspec": {
   "display_name": "Python 3 (ipykernel)",
   "language": "python",
   "name": "python3"
  },
  "language_info": {
   "codemirror_mode": {
    "name": "ipython",
    "version": 3
   },
   "file_extension": ".py",
   "mimetype": "text/x-python",
   "name": "python",
   "nbconvert_exporter": "python",
   "pygments_lexer": "ipython3",
   "version": "3.11.2"
  }
 },
 "nbformat": 4,
 "nbformat_minor": 5
}
